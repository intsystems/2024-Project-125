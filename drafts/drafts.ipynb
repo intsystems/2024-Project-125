{
 "cells": [
  {
   "cell_type": "code",
   "execution_count": null,
   "id": "316f9f88-8ede-4643-8074-7187c787ac2a",
   "metadata": {},
   "outputs": [],
   "source": [
    "# from statsmodels.tsa.ar_model import AutoReg\n",
    "# from statsmodels.graphics.tsaplots import plot_acf, plot_pacf\n",
    "# from statsmodels.tsa.arima.model import ARIMA"
   ]
  },
  {
   "cell_type": "code",
   "execution_count": null,
   "id": "41a9d445-0bce-4457-8533-ae8ba2627d5f",
   "metadata": {},
   "outputs": [],
   "source": [
    "Generate random time-series data\n",
    "np.random.seed(0)\n",
    "dates = pd.date_range(start='2023-01-01', periods=100)\n",
    "values = np.random.randn(100).cumsum()\n",
    "Plot the time-series data\n",
    "plt.plot(dates, values)\n",
    "plt.xlabel('Date')\n",
    "plt.ylabel('Value')\n",
    "plt.xticks(rotation = 45)\n",
    "plt.title('Time Series Data')\n",
    "plt.show()"
   ]
  },
  {
   "cell_type": "code",
   "execution_count": null,
   "id": "7906aacd-7ac0-40ac-82f8-eccc2c4f4eac",
   "metadata": {},
   "outputs": [],
   "source": [
    "data = values\n",
    "plot_acf(data)\n",
    "plot_pacf(data)\n",
    "plt.show()"
   ]
  },
  {
   "cell_type": "code",
   "execution_count": null,
   "id": "fc0c7291-bab5-4f5f-9546-058d9a77832d",
   "metadata": {},
   "outputs": [],
   "source": [
    "window_size = 5\n",
    "moving_avg = pd.DataFrame(data).rolling(window=window_size).mean()\n",
    "plt.plot(dates, values, color='blue')\n",
    "plt.plot(dates, moving_avg, color='green')"
   ]
  },
  {
   "cell_type": "code",
   "execution_count": null,
   "id": "59d8e9ec-e5d1-4e60-b7c4-07cb86004ebf",
   "metadata": {},
   "outputs": [],
   "source": [
    "n = 20\n",
    "# Assuming 'data' is the time series data\n",
    "data = values\n",
    "model = AutoReg(data, lags=23)\n",
    "ar_model = model.fit()\n",
    "predictions = ar_model.predict(start=len(data), end=len(data)+n-1)  # Replace n with the number of future values to predict\n",
    "st = dates[-1]\n",
    "dates_plus = pd.date_range(start=st, periods=n)\n",
    "plt.plot(dates, values, color='blue')\n",
    "plt.plot(dates_plus, predictions, color='green')"
   ]
  },
  {
   "cell_type": "code",
   "execution_count": null,
   "id": "42171d95-b3df-43d0-a0b8-2833188dc5a4",
   "metadata": {},
   "outputs": [],
   "source": [
    "# Assuming 'data' is the time series dat\n",
    "model = ARIMA(data, order=(2, 0, 3))  # Replace p, d, and q with appropriate values\n",
    "arma_model = model.fit()\n",
    "predictions = arma_model.predict(start=len(data), end=len(data)+n, typ='levels')  # Replace n with the number of future values to predict\n",
    "\n",
    "st = dates[-1] + np.diff(dates)[0]\n",
    "dates_plus = pd.date_range(start=st, periods=n+1)\n",
    "plt.plot(dates, values, color='blue')\n",
    "plt.plot(dates_plus, predictions, color='green')"
   ]
  },
  {
   "cell_type": "code",
   "execution_count": null,
   "id": "2e5c0b04-0512-46b4-80fd-29c45b608e70",
   "metadata": {},
   "outputs": [],
   "source": [
    "import numpy as np\n",
    "import statsmodels.api as sm\n",
    "\n",
    "def generate_valid_arma_params():\n",
    "    ar_params = np.random.uniform(-0.9, 0.9, size=2)  # Generate 2 AR parameters\n",
    "    ma_params = np.random.uniform(-0.9, 0.9, size=2)  # Generate 2 MA parameters\n",
    "    \n",
    "    ar_valid, ma_valid = check_arma_params(ar_params, ma_params)\n",
    "    \n",
    "    if ar_valid and ma_valid:\n",
    "        return ar_params, ma_params\n",
    "    else:\n",
    "        return generate_valid_arma_params()  # Retry if parameters are not valid\n",
    "\n",
    "# Function to check ARMA parameters validity\n",
    "def check_arma_params(ar_params, ma_params):\n",
    "    ar_roots = np.roots([1] + [-p for p in ar_params])\n",
    "    ma_roots = np.roots([1] + ma_params)\n",
    "    \n",
    "    ar_stationary = np.all(np.abs(ar_roots) > 1)\n",
    "    ma_invertible = np.all(np.abs(ma_roots) > 1)\n",
    "    \n",
    "    return ar_stationary, ma_invertible\n",
    "\n",
    "# Generate valid ARMA parameters\n",
    "ar_params, ma_params = generate_valid_arma_params()\n",
    "print(\"Valid AR Parameters:\", ar_params)\n",
    "print(\"Valid MA Parameters:\", ma_params)\n",
    "\n",
    "\n",
    "\n",
    "# ar_valid, ma_valid = check_arma_params(ar_params, ma_params)\n",
    "# if ar_valid and ma_valid:\n",
    "#     print(\"ARMA parameters are valid for arma_generate_sample\")\n",
    "# else:\n",
    "#     print(\"ARMA parameters are not valid for arma_generate_sample\")"
   ]
  },
  {
   "cell_type": "code",
   "execution_count": null,
   "id": "1fb6b756-faf4-4a42-90dc-3484fcfc74c8",
   "metadata": {},
   "outputs": [],
   "source": [
    "def trenddetector(list_of_index, array_of_data, order=1):\n",
    "    result = np.polyfit(list_of_index, list(array_of_data), order)\n",
    "    # slope = result[-2]\n",
    "    return result\n",
    "\n",
    "trenddetector(np.arange(n), time_series)"
   ]
  },
  {
   "cell_type": "code",
   "execution_count": null,
   "id": "7437eeca-6cab-4ab0-b88a-ead7d4b93496",
   "metadata": {},
   "outputs": [],
   "source": [
    "def adfuller_test(time_series):\n",
    "    '''\n",
    "    Augmented Dickey-Fuller test\n",
    "    '''\n",
    "    result = adfuller(time_series)\n",
    "    print('ADF Statistic:', result[0])\n",
    "    print('p-value:', result[1])\n",
    "    print('Critical Values:')\n",
    "    for key, value in result[4].items():\n",
    "        print('\\t%s: %.3f' % (key, value))\n",
    "    # print(\"Little pvalue means data is likely stationary\")\n",
    "\n",
    "adfuller_test(time_series)"
   ]
  },
  {
   "cell_type": "code",
   "execution_count": null,
   "id": "8cbbcf11-3794-480e-9378-4c9fd0223be0",
   "metadata": {},
   "outputs": [],
   "source": [
    "def show_time_series(ts_list, k):\n",
    "    fig, ax = plt.subplots(k, 1, figsize=(15, 15))\n",
    "    for i in range(k):\n",
    "        ts = ts_list[i]\n",
    "        ax[i].plot(np.arange(len(ts)), ts)\n",
    "    plt.show()"
   ]
  },
  {
   "cell_type": "code",
   "execution_count": null,
   "id": "8d683d0a-e0c8-4035-9043-df9ac2e7d7a6",
   "metadata": {},
   "outputs": [],
   "source": [
    "def draw_binded(bts, indexes, stamps):\n",
    "    plt.figure(figsize=(15, 6))\n",
    "    plt.plot(np.arange(len(bts)), bts)\n",
    "    vital_indexes = [(0, indexes[0])]\n",
    "    for i, stamp in enumerate(stamps):\n",
    "        if 0 < i < len(indexes) and indexes[i] != indexes[i-1]:\n",
    "            vital_indexes.append((i, indexes[i]))\n",
    "    ticks = []\n",
    "    labels = []\n",
    "    \n",
    "    for i, idx in vital_indexes:\n",
    "        plt.axvline(stamps[i], color='red')\n",
    "        ticks.append(stamps[i])\n",
    "        labels.append(f\"     {idx} =>\")\n",
    "    plt.axvline(stamps[-1], color='red')\n",
    "    plt.xticks(ticks, labels)\n",
    "    plt.show()"
   ]
  }
 ],
 "metadata": {
  "kernelspec": {
   "display_name": "Python 3 (ipykernel)",
   "language": "python",
   "name": "python3"
  },
  "language_info": {
   "codemirror_mode": {
    "name": "ipython",
    "version": 3
   },
   "file_extension": ".py",
   "mimetype": "text/x-python",
   "name": "python",
   "nbconvert_exporter": "python",
   "pygments_lexer": "ipython3",
   "version": "3.10.9"
  }
 },
 "nbformat": 4,
 "nbformat_minor": 5
}
