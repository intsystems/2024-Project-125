{
 "cells": [
  {
   "cell_type": "code",
   "execution_count": 1,
   "id": "52588533-8b67-413a-bdf5-497a0c0a8794",
   "metadata": {},
   "outputs": [],
   "source": [
    "import numpy as np\n",
    "import pandas as pd\n",
    "import matplotlib.pyplot as plt\n",
    "import warnings\n",
    "\n",
    "# warnings.filterwarnings('ignore')\n",
    "plt.rcParams['figure.dpi'] = 80\n",
    "\n",
    "import sys\n",
    "sys.path.insert(0, '..')\n",
    "\n",
    "import os\n",
    "from pathlib import Path\n",
    "\n",
    "from hypers import weight_hypers\n",
    "from hypers import alpha_hypers \n",
    "\n",
    "from experiment import Params\n",
    "from experiment import run_experiments\n",
    "from experiment import load_experiments\n",
    "from experiment import draw_logs\n",
    "from experiment import experiments_to_df\n",
    "\n",
    "from analysis import draw_several"
   ]
  },
  {
   "cell_type": "markdown",
   "id": "a6001970-dee0-4630-b94b-e46dfc7dd8d2",
   "metadata": {},
   "source": [
    "### Эксперимент"
   ]
  },
  {
   "cell_type": "code",
   "execution_count": 2,
   "id": "0af5e1c7-9ece-45e3-8348-f6e3f2a7707a",
   "metadata": {},
   "outputs": [
    {
     "name": "stderr",
     "output_type": "stream",
     "text": [
      "100%|█████████████████████████████████████████████████████████████████████████████████████| 264/264 [00:00<00:00, 334.16it/s]\n",
      "100%|█████████████████████████████████████████████████████████████████████████████████████| 264/264 [00:00<00:00, 357.29it/s]\n",
      "100%|█████████████████████████████████████████████████████████████████████████████████████| 264/264 [00:00<00:00, 340.93it/s]\n",
      "100%|█████████████████████████████████████████████████████████████████████████████████████| 263/263 [00:00<00:00, 342.76it/s]\n",
      "100%|█████████████████████████████████████████████████████████████████████████████████████| 263/263 [00:00<00:00, 357.64it/s]\n",
      "100%|█████████████████████████████████████████████████████████████████████████████████████| 263/263 [00:00<00:00, 316.68it/s]\n",
      "100%|█████████████████████████████████████████████████████████████████████████████████████| 265/265 [00:00<00:00, 302.91it/s]\n",
      "100%|█████████████████████████████████████████████████████████████████████████████████████| 265/265 [00:00<00:00, 333.64it/s]\n",
      "100%|█████████████████████████████████████████████████████████████████████████████████████| 265/265 [00:00<00:00, 339.90it/s]\n"
     ]
    }
   ],
   "source": [
    "dir = '../results/'\n",
    "file = 'experim_00.json'\n",
    "\n",
    "seeds = np.arange(3) + 101\n",
    "\n",
    "params = Params(series_type = \"default\",\n",
    "                from_start = False,\n",
    "                a = -40,\n",
    "                b = 40,\n",
    "                dim = 10,\n",
    "                low = -10,\n",
    "                high = 10,\n",
    "                clip = (-40, 40),\n",
    "                workers_num = 3,\n",
    "                length = 200,\n",
    "                lower_bound = 10,\n",
    "                upper_bound = 40,\n",
    "                alternating=True)\n",
    "\n",
    "different_noises = [1]\n",
    "different_windows = [10]\n",
    "different_wf = [\"default\", \"simple_101\"]\n",
    "different_af = [\"default\", \"simple_05\"]\n",
    "\n",
    "\n",
    "interesting = set()\n",
    "\n",
    "for key_w in different_wf:\n",
    "    interesting.add((key_w, \"start\", \"default\"))\n",
    "\n",
    "for key_a in different_af:\n",
    "    interesting.add((\"simple_101\", \"start\", key_a))\n",
    "\n",
    "\n",
    "experiments, df = run_experiments(dir+file, seeds, params, different_noises, different_windows, interesting)\n",
    "with open(dir + Path('info_' + file).with_suffix('').as_posix(), 'w') as f:\n",
    "    f.write(_ih[2])\n",
    "    \n",
    "# experiments, df = load_experiments(dir+file)"
   ]
  },
  {
   "cell_type": "code",
   "execution_count": 3,
   "id": "0b9c4075-7fdd-498f-9cc7-9fdbc088e1a4",
   "metadata": {},
   "outputs": [
    {
     "data": {
      "text/html": [
       "<div>\n",
       "<style scoped>\n",
       "    .dataframe tbody tr th:only-of-type {\n",
       "        vertical-align: middle;\n",
       "    }\n",
       "\n",
       "    .dataframe tbody tr th {\n",
       "        vertical-align: top;\n",
       "    }\n",
       "\n",
       "    .dataframe thead th {\n",
       "        text-align: right;\n",
       "    }\n",
       "</style>\n",
       "<table border=\"1\" class=\"dataframe\">\n",
       "  <thead>\n",
       "    <tr style=\"text-align: right;\">\n",
       "      <th></th>\n",
       "      <th>noise_var</th>\n",
       "      <th>train_window</th>\n",
       "      <th>weight_function</th>\n",
       "      <th>mixing_type</th>\n",
       "      <th>alpha_function</th>\n",
       "      <th>mean</th>\n",
       "      <th>random_0</th>\n",
       "      <th>random_1</th>\n",
       "      <th>random_2</th>\n",
       "    </tr>\n",
       "  </thead>\n",
       "  <tbody>\n",
       "    <tr>\n",
       "      <th>0</th>\n",
       "      <td>1</td>\n",
       "      <td>10</td>\n",
       "      <td>1 / ((x + 1) * (ln(x + 1))^2)</td>\n",
       "      <td>start</td>\n",
       "      <td>1 / (x + 1)</td>\n",
       "      <td>44089.08</td>\n",
       "      <td>36406.87</td>\n",
       "      <td>44874.52</td>\n",
       "      <td>50985.84</td>\n",
       "    </tr>\n",
       "    <tr>\n",
       "      <th>2</th>\n",
       "      <td>1</td>\n",
       "      <td>10</td>\n",
       "      <td>1 / (x^1.01)</td>\n",
       "      <td>start</td>\n",
       "      <td>1 / (x + 1)</td>\n",
       "      <td>32961.70</td>\n",
       "      <td>26336.51</td>\n",
       "      <td>36200.79</td>\n",
       "      <td>36347.81</td>\n",
       "    </tr>\n",
       "    <tr>\n",
       "      <th>1</th>\n",
       "      <td>1</td>\n",
       "      <td>10</td>\n",
       "      <td>1 / (x^1.01)</td>\n",
       "      <td>start</td>\n",
       "      <td>1 / (x + 1)^0.5</td>\n",
       "      <td>33563.12</td>\n",
       "      <td>28424.79</td>\n",
       "      <td>34934.8</td>\n",
       "      <td>37329.76</td>\n",
       "    </tr>\n",
       "  </tbody>\n",
       "</table>\n",
       "</div>"
      ],
      "text/plain": [
       "  noise_var train_window                weight_function mixing_type  \\\n",
       "0         1           10  1 / ((x + 1) * (ln(x + 1))^2)       start   \n",
       "2         1           10                   1 / (x^1.01)       start   \n",
       "1         1           10                   1 / (x^1.01)       start   \n",
       "\n",
       "    alpha_function      mean  random_0  random_1  random_2  \n",
       "0      1 / (x + 1)  44089.08  36406.87  44874.52  50985.84  \n",
       "2      1 / (x + 1)  32961.70  26336.51  36200.79  36347.81  \n",
       "1  1 / (x + 1)^0.5  33563.12  28424.79   34934.8  37329.76  "
      ]
     },
     "execution_count": 3,
     "metadata": {},
     "output_type": "execute_result"
    }
   ],
   "source": [
    "df"
   ]
  },
  {
   "cell_type": "code",
   "execution_count": 4,
   "id": "dc9cb1f5-847f-4a47-8fcb-de4d64e05bc4",
   "metadata": {},
   "outputs": [],
   "source": [
    "# enumerated = [(num, experiment) for num, experiment in enumerate(experiments)]\n",
    "# for num, experiment in enumerated[::7]:\n",
    "#     draw_logs(experiment.logs, show=[\"master\", \"ideal\"], title=f\"Experiment №{num},  regret = {experiment.regret:.1f}\", fig_size=(12, 5))"
   ]
  },
  {
   "cell_type": "code",
   "execution_count": null,
   "id": "423d77de-6b38-432c-bf3f-4cf2a8596dc9",
   "metadata": {},
   "outputs": [],
   "source": []
  },
  {
   "cell_type": "code",
   "execution_count": 11,
   "id": "65d96f9c-7b32-4a32-817e-c3257b4500ed",
   "metadata": {},
   "outputs": [
    {
     "data": {
      "image/png": "[encoded data removed]",
      "text/plain": [
       "<Figure size 800x400 with 1 Axes>"
      ]
     },
     "metadata": {},
     "output_type": "display_data"
    }
   ],
   "source": [
    "vital = experiments[:2]\n",
    "anls = [experiment.logs for experiment in vital]\n",
    "labels = [experiment.key_a + \" + \" + experiment.mixing_type + \" + \" + experiment.key_w for experiment in vital]\n",
    "colors = [None] * 2\n",
    "draw_several(logs=anls, labels=labels, colors=colors)"
   ]
  },
  {
   "cell_type": "code",
   "execution_count": 10,
   "id": "82c9e182-6300-4c2c-95f7-10ddf7e67997",
   "metadata": {},
   "outputs": [
    {
     "data": {
      "text/html": [
       "<div>\n",
       "<style scoped>\n",
       "    .dataframe tbody tr th:only-of-type {\n",
       "        vertical-align: middle;\n",
       "    }\n",
       "\n",
       "    .dataframe tbody tr th {\n",
       "        vertical-align: top;\n",
       "    }\n",
       "\n",
       "    .dataframe thead th {\n",
       "        text-align: right;\n",
       "    }\n",
       "</style>\n",
       "<table border=\"1\" class=\"dataframe\">\n",
       "  <thead>\n",
       "    <tr style=\"text-align: right;\">\n",
       "      <th></th>\n",
       "      <th>noise_var</th>\n",
       "      <th>train_window</th>\n",
       "      <th>weight_function</th>\n",
       "      <th>mixing_type</th>\n",
       "      <th>alpha_function</th>\n",
       "      <th>mean</th>\n",
       "    </tr>\n",
       "  </thead>\n",
       "  <tbody>\n",
       "    <tr>\n",
       "      <th>0</th>\n",
       "      <td>1</td>\n",
       "      <td>10</td>\n",
       "      <td>1 / ((x + 1) * (ln(x + 1))^2)</td>\n",
       "      <td>start</td>\n",
       "      <td>1 / (x + 1)</td>\n",
       "      <td>44089.08</td>\n",
       "    </tr>\n",
       "    <tr>\n",
       "      <th>2</th>\n",
       "      <td>1</td>\n",
       "      <td>10</td>\n",
       "      <td>1 / (x^1.01)</td>\n",
       "      <td>start</td>\n",
       "      <td>1 / (x + 1)</td>\n",
       "      <td>32961.70</td>\n",
       "    </tr>\n",
       "  </tbody>\n",
       "</table>\n",
       "</div>"
      ],
      "text/plain": [
       "  noise_var train_window                weight_function mixing_type  \\\n",
       "0         1           10  1 / ((x + 1) * (ln(x + 1))^2)       start   \n",
       "2         1           10                   1 / (x^1.01)       start   \n",
       "\n",
       "  alpha_function      mean  \n",
       "0    1 / (x + 1)  44089.08  \n",
       "2    1 / (x + 1)  32961.70  "
      ]
     },
     "execution_count": 10,
     "metadata": {},
     "output_type": "execute_result"
    }
   ],
   "source": [
    "# df_w = df[df[\"alpha_function\"] == alpha_hypers[\"default\"].repr].iloc[:,:6]\n",
    "# df_w"
   ]
  },
  {
   "cell_type": "code",
   "execution_count": 7,
   "id": "ff207bdf-1a6d-44b6-bbe6-38dab8af9ee4",
   "metadata": {},
   "outputs": [
    {
     "data": {
      "text/plain": [
       "64"
      ]
     },
     "execution_count": 7,
     "metadata": {},
     "output_type": "execute_result"
    }
   ],
   "source": [
    "# print(df_r.to_latex(index=False, float_format=\"%.2f\"))\n",
    "# df[[\"noise_var\", \"train_window\", \"regret\"]].groupby([\"noise_var\", \"train_window\"]).mean()"
   ]
  }
 ],
 "metadata": {
  "kernelspec": {
   "display_name": "Python 3 (ipykernel)",
   "language": "python",
   "name": "python3"
  },
  "language_info": {
   "codemirror_mode": {
    "name": "ipython",
    "version": 3
   },
   "file_extension": ".py",
   "mimetype": "text/x-python",
   "name": "python",
   "nbconvert_exporter": "python",
   "pygments_lexer": "ipython3",
   "version": "3.10.9"
  }
 },
 "nbformat": 4,
 "nbformat_minor": 5
}
