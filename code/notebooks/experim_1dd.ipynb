{
 "cells": [
  {
   "cell_type": "code",
   "execution_count": 1,
   "id": "52588533-8b67-413a-bdf5-497a0c0a8794",
   "metadata": {},
   "outputs": [],
   "source": [
    "import numpy as np\n",
    "import pandas as pd\n",
    "import matplotlib.pyplot as plt\n",
    "import warnings\n",
    "\n",
    "# warnings.filterwarnings('ignore')\n",
    "plt.rcParams['figure.dpi'] = 80\n",
    "\n",
    "import sys\n",
    "sys.path.insert(0, '..')\n",
    "\n",
    "import os\n",
    "from pathlib import Path\n",
    "\n",
    "from hypers import weight_hypers\n",
    "from hypers import alpha_hypers \n",
    "\n",
    "from experiment import Params\n",
    "from experiment import run_experiments\n",
    "from experiment import load_experiments\n",
    "from experiment import draw_logs\n",
    "from experiment import experiments_to_df\n",
    "\n",
    "from analysis import draw_several"
   ]
  },
  {
   "cell_type": "markdown",
   "id": "a6001970-dee0-4630-b94b-e46dfc7dd8d2",
   "metadata": {},
   "source": [
    "### Эксперимент"
   ]
  },
  {
   "cell_type": "code",
   "execution_count": null,
   "id": "0af5e1c7-9ece-45e3-8348-f6e3f2a7707a",
   "metadata": {},
   "outputs": [
    {
     "name": "stderr",
     "output_type": "stream",
     "text": [
      " 75%|███████████████████████████████████████████████████████████████████▉                      | 1940/2570 [01:08<00:42, 14.99it/s]"
     ]
    }
   ],
   "source": [
    "dir = '../results/'\n",
    "file = 'experim_49.json'\n",
    "\n",
    "seeds = np.arange(4) + 101\n",
    "\n",
    "params = Params(series_type = \"default\",\n",
    "                from_start = False,\n",
    "                a = -40,\n",
    "                b = 40,\n",
    "                dim = 10,\n",
    "                low = -10,\n",
    "                high = 10,\n",
    "                clip = (-40, 40),\n",
    "                workers_num = 5,\n",
    "                length = 2000,\n",
    "                lower_bound = 50,\n",
    "                upper_bound = 300,\n",
    "                alternating=True)\n",
    "\n",
    "different_noises = [1]\n",
    "different_windows = [10]\n",
    "\n",
    "# different_wf = [\"simple_101\", \"const\", \"diverge_05\"]\n",
    "different_af = [\"const_11000\", \"const_15000\", \"const_110000\", \"const_150000\"]\n",
    "\n",
    "\n",
    "interesting = set()\n",
    "\n",
    "# for key_w in different_wf:\n",
    "#     interesting.add((key_w, \"start\", \"default\"))\n",
    "\n",
    "for key_a in different_af:\n",
    "    interesting.add((\"simple_101\", \"decaying past\", key_a))\n",
    "    interesting.add((\"const\", \"decaying past\", key_a))\n",
    "    interesting.add((\"diverge_05\", \"decaying past\", key_a))\n",
    "\n",
    "\n",
    "experiments, df = run_experiments(dir+file, seeds, params, different_noises, different_windows, interesting)\n",
    "with open(dir + Path('info_' + file).with_suffix('').as_posix(), 'w') as f:\n",
    "    f.write(_ih[2])\n",
    "    \n",
    "# experiments, df = load_experiments(dir+file)"
   ]
  },
  {
   "cell_type": "code",
   "execution_count": null,
   "id": "0b9c4075-7fdd-498f-9cc7-9fdbc088e1a4",
   "metadata": {},
   "outputs": [],
   "source": [
    "df"
   ]
  },
  {
   "cell_type": "code",
   "execution_count": null,
   "id": "dc9cb1f5-847f-4a47-8fcb-de4d64e05bc4",
   "metadata": {},
   "outputs": [],
   "source": [
    "# enumerated = [(num, experiment) for num, experiment in enumerate(experiments)]\n",
    "# for num, experiment in enumerated[::7]:\n",
    "#     draw_logs(experiment.logs, show=[\"master\", \"ideal\"], title=f\"Experiment №{num},  regret = {experiment.regret:.1f}\", fig_size=(12, 5))"
   ]
  },
  {
   "cell_type": "code",
   "execution_count": null,
   "id": "423d77de-6b38-432c-bf3f-4cf2a8596dc9",
   "metadata": {},
   "outputs": [],
   "source": [
    "experiments0, df0 = load_experiments(dir+file)"
   ]
  },
  {
   "cell_type": "code",
   "execution_count": null,
   "id": "65d96f9c-7b32-4a32-817e-c3257b4500ed",
   "metadata": {},
   "outputs": [],
   "source": [
    "shift = 80 * 2\n",
    "vital = merged[shift + 0: shift + 12]\n",
    "anls = [experiment.logs for experiment in vital]\n",
    "labels = [str(experiment.train_window) + \" + \" + experiment.key_a + \" + \" + experiment.mixing_type + \" + \" + experiment.key_w for experiment in vital]\n",
    "colors = [None] * 16\n",
    "draw_several(from_start=False, logs=anls, labels=labels, colors=colors, fig_size=(12, 7))"
   ]
  },
  {
   "cell_type": "code",
   "execution_count": null,
   "id": "82c9e182-6300-4c2c-95f7-10ddf7e67997",
   "metadata": {},
   "outputs": [],
   "source": [
    "# df_w = df[df[\"alpha_function\"] == alpha_hypers[\"default\"].repr].iloc[:,:6]\n",
    "# df_w"
   ]
  },
  {
   "cell_type": "code",
   "execution_count": null,
   "id": "ff207bdf-1a6d-44b6-bbe6-38dab8af9ee4",
   "metadata": {},
   "outputs": [],
   "source": [
    "# print(df_r.to_latex(index=False, float_format=\"%.2f\"))\n",
    "# df[[\"noise_var\", \"train_window\", \"regret\"]].groupby([\"noise_var\", \"train_window\"]).mean()"
   ]
  },
  {
   "cell_type": "code",
   "execution_count": null,
   "id": "adaeb720-fa58-45d3-93dc-a1a071b447b5",
   "metadata": {},
   "outputs": [],
   "source": []
  }
 ],
 "metadata": {
  "kernelspec": {
   "display_name": "Python 3 (ipykernel)",
   "language": "python",
   "name": "python3"
  },
  "language_info": {
   "codemirror_mode": {
    "name": "ipython",
    "version": 3
   },
   "file_extension": ".py",
   "mimetype": "text/x-python",
   "name": "python",
   "nbconvert_exporter": "python",
   "pygments_lexer": "ipython3",
   "version": "3.10.9"
  }
 },
 "nbformat": 4,
 "nbformat_minor": 5
}
