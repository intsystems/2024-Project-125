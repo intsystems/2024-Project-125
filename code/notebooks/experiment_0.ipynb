{
 "cells": [
  {
   "cell_type": "code",
   "execution_count": 1,
   "id": "03d85a40-527e-4ee2-af7d-dad1cd68e576",
   "metadata": {},
   "outputs": [],
   "source": [
    "import numpy as np\n",
    "import pandas as pd\n",
    "import matplotlib.pyplot as plt\n",
    "import warnings\n",
    "\n",
    "# warnings.filterwarnings('ignore')\n",
    "plt.rcParams['figure.dpi'] = 80\n",
    "\n",
    "import sys\n",
    "sys.path.insert(0, '..')\n",
    "\n",
    "import os\n",
    "from pathlib import Path\n",
    "\n",
    "from hypers import weight_hypers\n",
    "from hypers import alpha_hypers \n",
    "\n",
    "from experiment import Params\n",
    "from experiment import run_experiments\n",
    "from experiment import load_experiments\n",
    "from experiment import draw_regrets\n",
    "from experiment import experiments_to_df"
   ]
  },
  {
   "cell_type": "markdown",
   "id": "36fee900-0c2e-4222-a508-dd1f8b4b9063",
   "metadata": {},
   "source": [
    "### Эксперимент"
   ]
  },
  {
   "cell_type": "code",
   "execution_count": 2,
   "id": "4c1b5824-4373-4101-9cd4-14d5790fde19",
   "metadata": {
    "scrolled": true
   },
   "outputs": [
    {
     "name": "stderr",
     "output_type": "stream",
     "text": [
      "100%|█████████████████████████████████████████████████████████████████████████████████████████████████████████| 26/26 [00:00<00:00, 1124.52it/s]\n",
      "100%|██████████████████████████████████████████████████████████████████████████████████████████████████████████| 26/26 [00:00<00:00, 759.96it/s]\n",
      "100%|█████████████████████████████████████████████████████████████████████████████████████████████████████████| 26/26 [00:00<00:00, 1542.74it/s]\n",
      "100%|█████████████████████████████████████████████████████████████████████████████████████████████████████████| 26/26 [00:00<00:00, 1560.78it/s]\n",
      "100%|█████████████████████████████████████████████████████████████████████████████████████████████████████████| 26/26 [00:00<00:00, 1552.34it/s]\n",
      "100%|█████████████████████████████████████████████████████████████████████████████████████████████████████████| 26/26 [00:00<00:00, 1576.62it/s]\n",
      "100%|█████████████████████████████████████████████████████████████████████████████████████████████████████████| 26/26 [00:00<00:00, 1555.24it/s]\n",
      "100%|█████████████████████████████████████████████████████████████████████████████████████████████████████████| 26/26 [00:00<00:00, 1544.10it/s]\n",
      "100%|█████████████████████████████████████████████████████████████████████████████████████████████████████████| 26/26 [00:00<00:00, 1555.33it/s]\n",
      "100%|█████████████████████████████████████████████████████████████████████████████████████████████████████████| 26/26 [00:00<00:00, 1521.44it/s]\n",
      "100%|█████████████████████████████████████████████████████████████████████████████████████████████████████████| 26/26 [00:00<00:00, 1399.52it/s]\n",
      "100%|█████████████████████████████████████████████████████████████████████████████████████████████████████████| 26/26 [00:00<00:00, 1468.83it/s]\n",
      "100%|█████████████████████████████████████████████████████████████████████████████████████████████████████████| 28/28 [00:00<00:00, 1586.33it/s]\n",
      "100%|█████████████████████████████████████████████████████████████████████████████████████████████████████████| 28/28 [00:00<00:00, 1485.97it/s]\n",
      "100%|█████████████████████████████████████████████████████████████████████████████████████████████████████████| 28/28 [00:00<00:00, 1539.48it/s]\n",
      "100%|█████████████████████████████████████████████████████████████████████████████████████████████████████████| 28/28 [00:00<00:00, 1445.92it/s]\n",
      "100%|█████████████████████████████████████████████████████████████████████████████████████████████████████████| 28/28 [00:00<00:00, 1546.21it/s]\n",
      "100%|█████████████████████████████████████████████████████████████████████████████████████████████████████████| 28/28 [00:00<00:00, 1575.96it/s]\n",
      "100%|█████████████████████████████████████████████████████████████████████████████████████████████████████████| 28/28 [00:00<00:00, 1507.00it/s]\n",
      "100%|█████████████████████████████████████████████████████████████████████████████████████████████████████████| 28/28 [00:00<00:00, 1470.27it/s]\n",
      "100%|█████████████████████████████████████████████████████████████████████████████████████████████████████████| 28/28 [00:00<00:00, 1558.77it/s]\n",
      "100%|█████████████████████████████████████████████████████████████████████████████████████████████████████████| 28/28 [00:00<00:00, 1389.30it/s]\n",
      "100%|█████████████████████████████████████████████████████████████████████████████████████████████████████████| 28/28 [00:00<00:00, 1564.00it/s]\n",
      "100%|█████████████████████████████████████████████████████████████████████████████████████████████████████████| 28/28 [00:00<00:00, 1514.42it/s]\n"
     ]
    }
   ],
   "source": [
    "dir = '../results/'\n",
    "file = 'experiment_0.json'\n",
    "\n",
    "seeds = 5 * np.arange(2, 4) + 111\n",
    "\n",
    "params = Params(series_type = \"default\",\n",
    "                from_start = False,\n",
    "                a = -40,\n",
    "                b = 40,\n",
    "                dim = 10,\n",
    "                low = -10,\n",
    "                high = 10,\n",
    "                clip = (-40, 40),\n",
    "                workers_num = 3,\n",
    "                length = 20,\n",
    "                lower_bound = 1,\n",
    "                upper_bound = 4,\n",
    "                alternating=True)\n",
    "\n",
    "different_noises = [0.01, 1, 100]\n",
    "different_windows = [5, 20]\n",
    "different_wf = [\"default\"]\n",
    "different_af = [\"default\"]\n",
    "\n",
    "\n",
    "experiments, df = run_experiments(dir + file, seeds, params, different_noises, different_windows, different_wf, different_af)\n",
    "# experiments, df = load_experiments(dir + file)"
   ]
  },
  {
   "cell_type": "code",
   "execution_count": 5,
   "id": "4b8dfe8f-bccf-403b-bf13-45c6b2fd9199",
   "metadata": {},
   "outputs": [],
   "source": [
    "with open(dir + Path('info_' + file).with_suffix('').as_posix(), 'w') as f:\n",
    "    f.write(_ih[2])"
   ]
  },
  {
   "cell_type": "code",
   "execution_count": null,
   "id": "0e0e6bbc-de77-4879-873a-0e9f063cfe17",
   "metadata": {},
   "outputs": [],
   "source": [
    "os.stat(filepath).st_size"
   ]
  },
  {
   "cell_type": "code",
   "execution_count": null,
   "id": "8a698ed2-5548-463f-b38b-616f5f99ce57",
   "metadata": {},
   "outputs": [],
   "source": [
    "df"
   ]
  },
  {
   "cell_type": "code",
   "execution_count": null,
   "id": "0767333c-260d-4a6c-8b76-e93d957a7083",
   "metadata": {},
   "outputs": [],
   "source": [
    "df_w = df[df[\"alpha_function\"] == alpha_hypers[\"default\"].repr].iloc[:,:5]\n",
    "df_w"
   ]
  },
  {
   "cell_type": "code",
   "execution_count": null,
   "id": "89c81ff3-ffaa-4d2d-8fe5-2ca270e24e9c",
   "metadata": {},
   "outputs": [],
   "source": [
    "df_a = df[df[\"weight_function\"] == weight_hypers[\"simple_101\"].repr].iloc[:,:5]\n",
    "df_a"
   ]
  },
  {
   "cell_type": "code",
   "execution_count": null,
   "id": "9a118386-df42-45da-b66a-58d8b1eb4062",
   "metadata": {},
   "outputs": [],
   "source": [
    "df[[\"noise_var\", \"train_window\", \"mean\"]].groupby([\"noise_var\", \"train_window\"]).mean()"
   ]
  },
  {
   "cell_type": "code",
   "execution_count": null,
   "id": "8d1465fa-8b71-4cf7-820c-52d35166f95c",
   "metadata": {},
   "outputs": [],
   "source": [
    "enumerated = [(num, experiment) for num, experiment in enumerate(experiments)]\n",
    "for num, experiment in enumerated[::2]:\n",
    "    draw_regrets(experiment.logs, show=[\"master\", \"ideal\"], title=f\"Experiment №{num},  regret = {experiment.regret:.1f}\", fig_size=(12, 5))"
   ]
  },
  {
   "cell_type": "code",
   "execution_count": null,
   "id": "ca7b46b8-9a57-4d03-bbfd-d8a403c1e888",
   "metadata": {},
   "outputs": [],
   "source": []
  }
 ],
 "metadata": {
  "kernelspec": {
   "display_name": "Python 3 (ipykernel)",
   "language": "python",
   "name": "python3"
  },
  "language_info": {
   "codemirror_mode": {
    "name": "ipython",
    "version": 3
   },
   "file_extension": ".py",
   "mimetype": "text/x-python",
   "name": "python",
   "nbconvert_exporter": "python",
   "pygments_lexer": "ipython3",
   "version": "3.10.9"
  }
 },
 "nbformat": 4,
 "nbformat_minor": 5
}
