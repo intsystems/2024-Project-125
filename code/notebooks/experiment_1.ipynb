{
 "cells": [
  {
   "cell_type": "code",
   "execution_count": 3,
   "id": "cce758c7-ce77-40cf-be3e-18f5a021aa57",
   "metadata": {
    "ExecuteTime": {
     "end_time": "2024-03-15T08:56:22.162907Z",
     "start_time": "2024-03-15T08:56:22.103083Z"
    }
   },
   "outputs": [],
   "source": [
    "import numpy as np\n",
    "import pandas as pd\n",
    "import matplotlib.pyplot as plt\n",
    "import warnings\n",
    "\n",
    "# warnings.filterwarnings('ignore')\n",
    "plt.rcParams['figure.dpi'] = 80\n",
    "\n",
    "import sys\n",
    "sys.path.insert(0, '..')"
   ]
  },
  {
   "cell_type": "markdown",
   "id": "36fee900-0c2e-4222-a508-dd1f8b4b9063",
   "metadata": {},
   "source": [
    "### Эксперимент"
   ]
  },
  {
   "cell_type": "code",
   "execution_count": 4,
   "id": "da9c3157-f8d0-4c21-a3eb-7d3707361145",
   "metadata": {
    "scrolled": true
   },
   "outputs": [],
   "source": [
    "from hypers import weight_hypers\n",
    "from hypers import alpha_hypers "
   ]
  },
  {
   "cell_type": "code",
   "execution_count": 6,
   "id": "6eb21ee6-8037-4c1c-acdc-7b9bbce614d2",
   "metadata": {},
   "outputs": [],
   "source": [
    "from experiment import run_experiments"
   ]
  },
  {
   "cell_type": "code",
   "execution_count": 7,
   "id": "4c1b5824-4373-4101-9cd4-14d5790fde19",
   "metadata": {
    "scrolled": true
   },
   "outputs": [
    {
     "name": "stderr",
     "output_type": "stream",
     "text": [
      "100%|█████████████████████████████████████████████████████████████████████████| 248/248 [00:00<00:00, 355.32it/s]\n",
      "100%|█████████████████████████████████████████████████████████████████████████| 248/248 [00:00<00:00, 375.28it/s]\n",
      "100%|█████████████████████████████████████████████████████████████████████████| 248/248 [00:00<00:00, 372.10it/s]\n",
      "100%|█████████████████████████████████████████████████████████████████████████| 248/248 [00:00<00:00, 370.44it/s]\n",
      "100%|█████████████████████████████████████████████████████████████████████████| 248/248 [00:00<00:00, 368.36it/s]\n",
      "100%|█████████████████████████████████████████████████████████████████████████| 248/248 [00:00<00:00, 354.30it/s]\n"
     ]
    }
   ],
   "source": [
    "windows = [5, 10, 20]\n",
    "# noises = [0.0001, 0.001, 0.1, 1, 10, 100]\n",
    "interesting_w = []\n",
    "interesting_a = [\"default\", \"simple_05\"]\n",
    "filepath = '../results/experiment_1.json'\n",
    "# experiments, df = run_experiments(windows, interesting_w, interesting_a, filepath)"
   ]
  },
  {
   "cell_type": "code",
   "execution_count": 8,
   "id": "3cf08273-7f08-48ef-89af-0f2694cde5ba",
   "metadata": {},
   "outputs": [
    {
     "data": {
      "text/html": [
       "<div>\n",
       "<style scoped>\n",
       "    .dataframe tbody tr th:only-of-type {\n",
       "        vertical-align: middle;\n",
       "    }\n",
       "\n",
       "    .dataframe tbody tr th {\n",
       "        vertical-align: top;\n",
       "    }\n",
       "\n",
       "    .dataframe thead th {\n",
       "        text-align: right;\n",
       "    }\n",
       "</style>\n",
       "<table border=\"1\" class=\"dataframe\">\n",
       "  <thead>\n",
       "    <tr style=\"text-align: right;\">\n",
       "      <th></th>\n",
       "      <th>train_window</th>\n",
       "      <th>weight_function</th>\n",
       "      <th>alpha_function</th>\n",
       "      <th>mean</th>\n",
       "      <th>random_1</th>\n",
       "    </tr>\n",
       "  </thead>\n",
       "  <tbody>\n",
       "    <tr>\n",
       "      <th>0</th>\n",
       "      <td>5</td>\n",
       "      <td>1 / (x^1.01)</td>\n",
       "      <td>1 / (x + 1)</td>\n",
       "      <td>18837.32</td>\n",
       "      <td>18837.32</td>\n",
       "    </tr>\n",
       "    <tr>\n",
       "      <th>1</th>\n",
       "      <td>5</td>\n",
       "      <td>1 / (x^1.01)</td>\n",
       "      <td>1 / (x + 1)^0.5</td>\n",
       "      <td>2445.89</td>\n",
       "      <td>2445.89</td>\n",
       "    </tr>\n",
       "    <tr>\n",
       "      <th>2</th>\n",
       "      <td>10</td>\n",
       "      <td>1 / (x^1.01)</td>\n",
       "      <td>1 / (x + 1)</td>\n",
       "      <td>24665.09</td>\n",
       "      <td>24665.09</td>\n",
       "    </tr>\n",
       "    <tr>\n",
       "      <th>3</th>\n",
       "      <td>10</td>\n",
       "      <td>1 / (x^1.01)</td>\n",
       "      <td>1 / (x + 1)^0.5</td>\n",
       "      <td>25366.92</td>\n",
       "      <td>25366.92</td>\n",
       "    </tr>\n",
       "    <tr>\n",
       "      <th>4</th>\n",
       "      <td>20</td>\n",
       "      <td>1 / (x^1.01)</td>\n",
       "      <td>1 / (x + 1)</td>\n",
       "      <td>24881.52</td>\n",
       "      <td>24881.52</td>\n",
       "    </tr>\n",
       "    <tr>\n",
       "      <th>5</th>\n",
       "      <td>20</td>\n",
       "      <td>1 / (x^1.01)</td>\n",
       "      <td>1 / (x + 1)^0.5</td>\n",
       "      <td>24643.48</td>\n",
       "      <td>24643.48</td>\n",
       "    </tr>\n",
       "  </tbody>\n",
       "</table>\n",
       "</div>"
      ],
      "text/plain": [
       "  train_window weight_function   alpha_function      mean  random_1\n",
       "0            5    1 / (x^1.01)      1 / (x + 1)  18837.32  18837.32\n",
       "1            5    1 / (x^1.01)  1 / (x + 1)^0.5   2445.89   2445.89\n",
       "2           10    1 / (x^1.01)      1 / (x + 1)  24665.09  24665.09\n",
       "3           10    1 / (x^1.01)  1 / (x + 1)^0.5  25366.92  25366.92\n",
       "4           20    1 / (x^1.01)      1 / (x + 1)  24881.52  24881.52\n",
       "5           20    1 / (x^1.01)  1 / (x + 1)^0.5  24643.48  24643.48"
      ]
     },
     "execution_count": 8,
     "metadata": {},
     "output_type": "execute_result"
    }
   ],
   "source": [
    "df"
   ]
  },
  {
   "cell_type": "code",
   "execution_count": 9,
   "id": "0767333c-260d-4a6c-8b76-e93d957a7083",
   "metadata": {},
   "outputs": [
    {
     "data": {
      "text/html": [
       "<div>\n",
       "<style scoped>\n",
       "    .dataframe tbody tr th:only-of-type {\n",
       "        vertical-align: middle;\n",
       "    }\n",
       "\n",
       "    .dataframe tbody tr th {\n",
       "        vertical-align: top;\n",
       "    }\n",
       "\n",
       "    .dataframe thead th {\n",
       "        text-align: right;\n",
       "    }\n",
       "</style>\n",
       "<table border=\"1\" class=\"dataframe\">\n",
       "  <thead>\n",
       "    <tr style=\"text-align: right;\">\n",
       "      <th></th>\n",
       "      <th>train_window</th>\n",
       "      <th>weight_function</th>\n",
       "      <th>alpha_function</th>\n",
       "      <th>mean</th>\n",
       "    </tr>\n",
       "  </thead>\n",
       "  <tbody>\n",
       "    <tr>\n",
       "      <th>0</th>\n",
       "      <td>5</td>\n",
       "      <td>1 / (x^1.01)</td>\n",
       "      <td>1 / (x + 1)</td>\n",
       "      <td>18837.32</td>\n",
       "    </tr>\n",
       "    <tr>\n",
       "      <th>2</th>\n",
       "      <td>10</td>\n",
       "      <td>1 / (x^1.01)</td>\n",
       "      <td>1 / (x + 1)</td>\n",
       "      <td>24665.09</td>\n",
       "    </tr>\n",
       "    <tr>\n",
       "      <th>4</th>\n",
       "      <td>20</td>\n",
       "      <td>1 / (x^1.01)</td>\n",
       "      <td>1 / (x + 1)</td>\n",
       "      <td>24881.52</td>\n",
       "    </tr>\n",
       "  </tbody>\n",
       "</table>\n",
       "</div>"
      ],
      "text/plain": [
       "  train_window weight_function alpha_function      mean\n",
       "0            5    1 / (x^1.01)    1 / (x + 1)  18837.32\n",
       "2           10    1 / (x^1.01)    1 / (x + 1)  24665.09\n",
       "4           20    1 / (x^1.01)    1 / (x + 1)  24881.52"
      ]
     },
     "execution_count": 9,
     "metadata": {},
     "output_type": "execute_result"
    }
   ],
   "source": [
    "df_w = df[df[\"alpha_function\"] == \"1 / (x + 1)\"].iloc[:, :4]\n",
    "df_w"
   ]
  },
  {
   "cell_type": "code",
   "execution_count": 10,
   "id": "89c81ff3-ffaa-4d2d-8fe5-2ca270e24e9c",
   "metadata": {},
   "outputs": [
    {
     "data": {
      "text/html": [
       "<div>\n",
       "<style scoped>\n",
       "    .dataframe tbody tr th:only-of-type {\n",
       "        vertical-align: middle;\n",
       "    }\n",
       "\n",
       "    .dataframe tbody tr th {\n",
       "        vertical-align: top;\n",
       "    }\n",
       "\n",
       "    .dataframe thead th {\n",
       "        text-align: right;\n",
       "    }\n",
       "</style>\n",
       "<table border=\"1\" class=\"dataframe\">\n",
       "  <thead>\n",
       "    <tr style=\"text-align: right;\">\n",
       "      <th></th>\n",
       "      <th>train_window</th>\n",
       "      <th>weight_function</th>\n",
       "      <th>alpha_function</th>\n",
       "      <th>mean</th>\n",
       "    </tr>\n",
       "  </thead>\n",
       "  <tbody>\n",
       "    <tr>\n",
       "      <th>0</th>\n",
       "      <td>5</td>\n",
       "      <td>1 / (x^1.01)</td>\n",
       "      <td>1 / (x + 1)</td>\n",
       "      <td>18837.32</td>\n",
       "    </tr>\n",
       "    <tr>\n",
       "      <th>1</th>\n",
       "      <td>5</td>\n",
       "      <td>1 / (x^1.01)</td>\n",
       "      <td>1 / (x + 1)^0.5</td>\n",
       "      <td>2445.89</td>\n",
       "    </tr>\n",
       "    <tr>\n",
       "      <th>2</th>\n",
       "      <td>10</td>\n",
       "      <td>1 / (x^1.01)</td>\n",
       "      <td>1 / (x + 1)</td>\n",
       "      <td>24665.09</td>\n",
       "    </tr>\n",
       "    <tr>\n",
       "      <th>3</th>\n",
       "      <td>10</td>\n",
       "      <td>1 / (x^1.01)</td>\n",
       "      <td>1 / (x + 1)^0.5</td>\n",
       "      <td>25366.92</td>\n",
       "    </tr>\n",
       "    <tr>\n",
       "      <th>4</th>\n",
       "      <td>20</td>\n",
       "      <td>1 / (x^1.01)</td>\n",
       "      <td>1 / (x + 1)</td>\n",
       "      <td>24881.52</td>\n",
       "    </tr>\n",
       "    <tr>\n",
       "      <th>5</th>\n",
       "      <td>20</td>\n",
       "      <td>1 / (x^1.01)</td>\n",
       "      <td>1 / (x + 1)^0.5</td>\n",
       "      <td>24643.48</td>\n",
       "    </tr>\n",
       "  </tbody>\n",
       "</table>\n",
       "</div>"
      ],
      "text/plain": [
       "  train_window weight_function   alpha_function      mean\n",
       "0            5    1 / (x^1.01)      1 / (x + 1)  18837.32\n",
       "1            5    1 / (x^1.01)  1 / (x + 1)^0.5   2445.89\n",
       "2           10    1 / (x^1.01)      1 / (x + 1)  24665.09\n",
       "3           10    1 / (x^1.01)  1 / (x + 1)^0.5  25366.92\n",
       "4           20    1 / (x^1.01)      1 / (x + 1)  24881.52\n",
       "5           20    1 / (x^1.01)  1 / (x + 1)^0.5  24643.48"
      ]
     },
     "execution_count": 10,
     "metadata": {},
     "output_type": "execute_result"
    }
   ],
   "source": [
    "df_a = df[df[\"weight_function\"] == \"1 / (x^1.01)\"].iloc[:,:4]\n",
    "df_a"
   ]
  },
  {
   "cell_type": "code",
   "execution_count": 11,
   "id": "6eefed08-d66c-4679-9b9f-ac2c114c9d57",
   "metadata": {},
   "outputs": [
    {
     "data": {
      "text/html": [
       "<div>\n",
       "<style scoped>\n",
       "    .dataframe tbody tr th:only-of-type {\n",
       "        vertical-align: middle;\n",
       "    }\n",
       "\n",
       "    .dataframe tbody tr th {\n",
       "        vertical-align: top;\n",
       "    }\n",
       "\n",
       "    .dataframe thead th {\n",
       "        text-align: right;\n",
       "    }\n",
       "</style>\n",
       "<table border=\"1\" class=\"dataframe\">\n",
       "  <thead>\n",
       "    <tr style=\"text-align: right;\">\n",
       "      <th></th>\n",
       "      <th>mean</th>\n",
       "    </tr>\n",
       "    <tr>\n",
       "      <th>train_window</th>\n",
       "      <th></th>\n",
       "    </tr>\n",
       "  </thead>\n",
       "  <tbody>\n",
       "    <tr>\n",
       "      <th>5</th>\n",
       "      <td>10641.605</td>\n",
       "    </tr>\n",
       "    <tr>\n",
       "      <th>10</th>\n",
       "      <td>25016.005</td>\n",
       "    </tr>\n",
       "    <tr>\n",
       "      <th>20</th>\n",
       "      <td>24762.500</td>\n",
       "    </tr>\n",
       "  </tbody>\n",
       "</table>\n",
       "</div>"
      ],
      "text/plain": [
       "                   mean\n",
       "train_window           \n",
       "5             10641.605\n",
       "10            25016.005\n",
       "20            24762.500"
      ]
     },
     "execution_count": 11,
     "metadata": {},
     "output_type": "execute_result"
    }
   ],
   "source": [
    "df[[\"train_window\", \"mean\"]].groupby(\"train_window\").mean()"
   ]
  },
  {
   "cell_type": "code",
   "execution_count": null,
   "id": "689ae280-73bf-476d-b94d-fb60305496ab",
   "metadata": {},
   "outputs": [],
   "source": []
  },
  {
   "cell_type": "code",
   "execution_count": null,
   "id": "c24123da-406c-4134-ad87-d479c53e738f",
   "metadata": {},
   "outputs": [],
   "source": []
  }
 ],
 "metadata": {
  "kernelspec": {
   "display_name": "Python 3 (ipykernel)",
   "language": "python",
   "name": "python3"
  },
  "language_info": {
   "codemirror_mode": {
    "name": "ipython",
    "version": 3
   },
   "file_extension": ".py",
   "mimetype": "text/x-python",
   "name": "python",
   "nbconvert_exporter": "python",
   "pygments_lexer": "ipython3",
   "version": "3.10.9"
  }
 },
 "nbformat": 4,
 "nbformat_minor": 5
}
