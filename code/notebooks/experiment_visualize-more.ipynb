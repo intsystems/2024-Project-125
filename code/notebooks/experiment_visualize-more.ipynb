{
 "cells": [
  {
   "cell_type": "code",
   "execution_count": 1,
   "id": "cce758c7-ce77-40cf-be3e-18f5a021aa57",
   "metadata": {
    "ExecuteTime": {
     "end_time": "2024-03-15T08:56:22.162907Z",
     "start_time": "2024-03-15T08:56:22.103083Z"
    }
   },
   "outputs": [],
   "source": [
    "import numpy as np\n",
    "import pandas as pd\n",
    "import matplotlib.pyplot as plt\n",
    "import warnings\n",
    "import copy\n",
    "\n",
    "from collections import defaultdict \n",
    "\n",
    "from synthesizer import Synthesizer\n",
    "from generator import Generator\n",
    "from algorithm import Algorithm\n",
    "\n",
    "# warnings.filterwarnings('ignore')\n",
    "plt.rcParams['figure.dpi'] = 80"
   ]
  },
  {
   "cell_type": "markdown",
   "id": "36fee900-0c2e-4222-a508-dd1f8b4b9063",
   "metadata": {},
   "source": [
    "### Эксперимент"
   ]
  },
  {
   "cell_type": "code",
   "execution_count": 2,
   "id": "072a47fd-f088-4902-87a8-153cef8023fa",
   "metadata": {},
   "outputs": [],
   "source": [
    "# seeds = 5 * np.arange(2, 6) + 111"
   ]
  },
  {
   "cell_type": "markdown",
   "id": "2b4c3cd5-42cd-41a5-9555-de30427cb473",
   "metadata": {},
   "source": [
    "#### Фиксированные параметры генератора\n",
    "- series_type = \"default\"  // обычная линейная регрессия\n",
    "\n",
    "- dim=10 // размерность сигнала\n",
    "- low=-10, high=10 // границы весов для получения отклика\n",
    "- noise_var=1 // дисперсия нормального шума\n",
    "- workers_num=3 // число различных генераторов\n",
    "- lower_bound=100, upper_bound=400 // границы длин каждого из кусков, получаемых генератором\n",
    "- alternating=True // нет двух подряд кусков одного типа\n",
    "#### Фиксированные параметры алгоритма\n",
    "- from_start=False // начинаем подсчет всех потерь (и составного эксперта) не с самого начала, а после того как прошли по одному разу учатки каждого из  генераторов\n",
    "\n",
    "- length=1500 // длина изучаемого участка временного ряда\n",
    "\n",
    "- a=-40, b=40 // параметры алгоритма, отклики отсеиваем тоже по ним\n",
    "\n",
    "#### Гиперпараметры эксперимента\n",
    "- windows = [5, 10, 20] // варьируем длину окна обучения ($\\frac12x, 1x, 2x$ соответственно, где $x$  &mdash; dim  сигнала )\n",
    "- weights_function // функция начальных весов, cравниваем $\\dfrac1{x^\\alpha}$ для разных $\\alpha$ и дефолтную $\\dfrac{1}{(x+1)\\ln^2(x+1)}$\n",
    "- alpha_function // функция коэффицента $\\alpha$ в Mixing Update, cравниваем $\\dfrac1{(1 + x)^\\alpha}$ для разных $\\alpha$"
   ]
  },
  {
   "cell_type": "code",
   "execution_count": 3,
   "id": "d7cb8652-c132-4cdc-9aa9-5f75c6d9a183",
   "metadata": {
    "scrolled": true
   },
   "outputs": [
    {
     "name": "stderr",
     "output_type": "stream",
     "text": [
      "100%|█████████████████████████████████████████████████████████████████████████| 248/248 [00:00<00:00, 367.16it/s]\n",
      "100%|█████████████████████████████████████████████████████████████████████████| 248/248 [00:00<00:00, 374.29it/s]\n",
      "100%|█████████████████████████████████████████████████████████████████████████| 248/248 [00:00<00:00, 373.27it/s]\n",
      "100%|█████████████████████████████████████████████████████████████████████████| 248/248 [00:00<00:00, 373.93it/s]\n",
      "100%|█████████████████████████████████████████████████████████████████████████| 248/248 [00:00<00:00, 373.81it/s]\n",
      "100%|█████████████████████████████████████████████████████████████████████████| 228/228 [00:00<00:00, 401.62it/s]\n",
      "100%|█████████████████████████████████████████████████████████████████████████| 228/228 [00:00<00:00, 403.05it/s]\n",
      "100%|█████████████████████████████████████████████████████████████████████████| 228/228 [00:00<00:00, 402.32it/s]\n",
      "100%|█████████████████████████████████████████████████████████████████████████| 228/228 [00:00<00:00, 403.10it/s]\n",
      "100%|█████████████████████████████████████████████████████████████████████████| 228/228 [00:00<00:00, 400.42it/s]\n",
      "100%|█████████████████████████████████████████████████████████████████████████| 228/228 [00:00<00:00, 401.38it/s]\n",
      "100%|█████████████████████████████████████████████████████████████████████████| 228/228 [00:00<00:00, 402.27it/s]\n",
      "100%|█████████████████████████████████████████████████████████████████████████| 228/228 [00:00<00:00, 400.16it/s]\n",
      "100%|█████████████████████████████████████████████████████████████████████████| 228/228 [00:00<00:00, 402.94it/s]\n",
      "100%|█████████████████████████████████████████████████████████████████████████| 228/228 [00:00<00:00, 402.52it/s]\n",
      "100%|█████████████████████████████████████████████████████████████████████████| 223/223 [00:00<00:00, 410.08it/s]\n",
      "100%|█████████████████████████████████████████████████████████████████████████| 223/223 [00:00<00:00, 406.03it/s]\n",
      "100%|█████████████████████████████████████████████████████████████████████████| 223/223 [00:00<00:00, 406.34it/s]\n",
      "100%|█████████████████████████████████████████████████████████████████████████| 223/223 [00:00<00:00, 409.95it/s]\n",
      "100%|█████████████████████████████████████████████████████████████████████████| 223/223 [00:00<00:00, 410.13it/s]\n"
     ]
    }
   ],
   "source": [
    "from hypers import weight_hypers\n",
    "from hypers import alpha_hypers \n",
    "\n",
    "from main import experiments\n",
    "from main import df"
   ]
  },
  {
   "cell_type": "code",
   "execution_count": 4,
   "id": "3cf08273-7f08-48ef-89af-0f2694cde5ba",
   "metadata": {},
   "outputs": [
    {
     "data": {
      "text/html": [
       "<div>\n",
       "<style scoped>\n",
       "    .dataframe tbody tr th:only-of-type {\n",
       "        vertical-align: middle;\n",
       "    }\n",
       "\n",
       "    .dataframe tbody tr th {\n",
       "        vertical-align: top;\n",
       "    }\n",
       "\n",
       "    .dataframe thead th {\n",
       "        text-align: right;\n",
       "    }\n",
       "</style>\n",
       "<table border=\"1\" class=\"dataframe\">\n",
       "  <thead>\n",
       "    <tr style=\"text-align: right;\">\n",
       "      <th></th>\n",
       "      <th>windows</th>\n",
       "      <th>weight_function</th>\n",
       "      <th>alpha_function</th>\n",
       "      <th>mean</th>\n",
       "      <th>random_1</th>\n",
       "      <th>random_2</th>\n",
       "      <th>random_3</th>\n",
       "      <th>random_4</th>\n",
       "    </tr>\n",
       "  </thead>\n",
       "  <tbody>\n",
       "    <tr>\n",
       "      <th>1</th>\n",
       "      <td>10</td>\n",
       "      <td>1 / (x^1.01)</td>\n",
       "      <td>1 / (x + 1)</td>\n",
       "      <td>28413.14</td>\n",
       "      <td>24665.09</td>\n",
       "      <td>23763.2</td>\n",
       "      <td>26267.51</td>\n",
       "      <td>38956.77</td>\n",
       "    </tr>\n",
       "    <tr>\n",
       "      <th>4</th>\n",
       "      <td>10</td>\n",
       "      <td>1 / (x^1.01)</td>\n",
       "      <td>1 / (x + 1)^0.1</td>\n",
       "      <td>32871.58</td>\n",
       "      <td>31333.98</td>\n",
       "      <td>30000.99</td>\n",
       "      <td>28393.74</td>\n",
       "      <td>41757.63</td>\n",
       "    </tr>\n",
       "    <tr>\n",
       "      <th>0</th>\n",
       "      <td>10</td>\n",
       "      <td>1 / (x^1.01)</td>\n",
       "      <td>1 / (x + 1)^0.5</td>\n",
       "      <td>28597.43</td>\n",
       "      <td>25366.92</td>\n",
       "      <td>25933.93</td>\n",
       "      <td>25085.51</td>\n",
       "      <td>38003.35</td>\n",
       "    </tr>\n",
       "    <tr>\n",
       "      <th>2</th>\n",
       "      <td>10</td>\n",
       "      <td>1 / (x^1.01)</td>\n",
       "      <td>1 / (x + 5)</td>\n",
       "      <td>28431.08</td>\n",
       "      <td>24689.37</td>\n",
       "      <td>23777.47</td>\n",
       "      <td>26284.94</td>\n",
       "      <td>38972.54</td>\n",
       "    </tr>\n",
       "    <tr>\n",
       "      <th>3</th>\n",
       "      <td>10</td>\n",
       "      <td>1 / (x^1.01)</td>\n",
       "      <td>1 / (x + 25)</td>\n",
       "      <td>28517.11</td>\n",
       "      <td>24807.39</td>\n",
       "      <td>23847.02</td>\n",
       "      <td>26364.02</td>\n",
       "      <td>39050.0</td>\n",
       "    </tr>\n",
       "  </tbody>\n",
       "</table>\n",
       "</div>"
      ],
      "text/plain": [
       "  windows weight_function   alpha_function      mean  random_1  random_2  \\\n",
       "1      10    1 / (x^1.01)      1 / (x + 1)  28413.14  24665.09   23763.2   \n",
       "4      10    1 / (x^1.01)  1 / (x + 1)^0.1  32871.58  31333.98  30000.99   \n",
       "0      10    1 / (x^1.01)  1 / (x + 1)^0.5  28597.43  25366.92  25933.93   \n",
       "2      10    1 / (x^1.01)      1 / (x + 5)  28431.08  24689.37  23777.47   \n",
       "3      10    1 / (x^1.01)     1 / (x + 25)  28517.11  24807.39  23847.02   \n",
       "\n",
       "   random_3  random_4  \n",
       "1  26267.51  38956.77  \n",
       "4  28393.74  41757.63  \n",
       "0  25085.51  38003.35  \n",
       "2  26284.94  38972.54  \n",
       "3  26364.02   39050.0  "
      ]
     },
     "execution_count": 4,
     "metadata": {},
     "output_type": "execute_result"
    }
   ],
   "source": [
    "df"
   ]
  },
  {
   "cell_type": "code",
   "execution_count": 5,
   "id": "0767333c-260d-4a6c-8b76-e93d957a7083",
   "metadata": {},
   "outputs": [
    {
     "data": {
      "text/html": [
       "<div>\n",
       "<style scoped>\n",
       "    .dataframe tbody tr th:only-of-type {\n",
       "        vertical-align: middle;\n",
       "    }\n",
       "\n",
       "    .dataframe tbody tr th {\n",
       "        vertical-align: top;\n",
       "    }\n",
       "\n",
       "    .dataframe thead th {\n",
       "        text-align: right;\n",
       "    }\n",
       "</style>\n",
       "<table border=\"1\" class=\"dataframe\">\n",
       "  <thead>\n",
       "    <tr style=\"text-align: right;\">\n",
       "      <th></th>\n",
       "      <th>windows</th>\n",
       "      <th>weight_function</th>\n",
       "      <th>alpha_function</th>\n",
       "      <th>mean</th>\n",
       "    </tr>\n",
       "  </thead>\n",
       "  <tbody>\n",
       "    <tr>\n",
       "      <th>1</th>\n",
       "      <td>10</td>\n",
       "      <td>1 / (x^1.01)</td>\n",
       "      <td>1 / (x + 1)</td>\n",
       "      <td>28413.14</td>\n",
       "    </tr>\n",
       "  </tbody>\n",
       "</table>\n",
       "</div>"
      ],
      "text/plain": [
       "  windows weight_function alpha_function      mean\n",
       "1      10    1 / (x^1.01)    1 / (x + 1)  28413.14"
      ]
     },
     "execution_count": 5,
     "metadata": {},
     "output_type": "execute_result"
    }
   ],
   "source": [
    "df_w = df[df[\"alpha_function\"] == \"1 / (x + 1)\"].iloc[:, :4]\n",
    "df_w"
   ]
  },
  {
   "cell_type": "code",
   "execution_count": 6,
   "id": "89c81ff3-ffaa-4d2d-8fe5-2ca270e24e9c",
   "metadata": {},
   "outputs": [
    {
     "data": {
      "text/html": [
       "<div>\n",
       "<style scoped>\n",
       "    .dataframe tbody tr th:only-of-type {\n",
       "        vertical-align: middle;\n",
       "    }\n",
       "\n",
       "    .dataframe tbody tr th {\n",
       "        vertical-align: top;\n",
       "    }\n",
       "\n",
       "    .dataframe thead th {\n",
       "        text-align: right;\n",
       "    }\n",
       "</style>\n",
       "<table border=\"1\" class=\"dataframe\">\n",
       "  <thead>\n",
       "    <tr style=\"text-align: right;\">\n",
       "      <th></th>\n",
       "      <th>windows</th>\n",
       "      <th>weight_function</th>\n",
       "      <th>alpha_function</th>\n",
       "      <th>mean</th>\n",
       "    </tr>\n",
       "  </thead>\n",
       "  <tbody>\n",
       "    <tr>\n",
       "      <th>1</th>\n",
       "      <td>10</td>\n",
       "      <td>1 / (x^1.01)</td>\n",
       "      <td>1 / (x + 1)</td>\n",
       "      <td>28413.14</td>\n",
       "    </tr>\n",
       "    <tr>\n",
       "      <th>4</th>\n",
       "      <td>10</td>\n",
       "      <td>1 / (x^1.01)</td>\n",
       "      <td>1 / (x + 1)^0.1</td>\n",
       "      <td>32871.58</td>\n",
       "    </tr>\n",
       "    <tr>\n",
       "      <th>0</th>\n",
       "      <td>10</td>\n",
       "      <td>1 / (x^1.01)</td>\n",
       "      <td>1 / (x + 1)^0.5</td>\n",
       "      <td>28597.43</td>\n",
       "    </tr>\n",
       "    <tr>\n",
       "      <th>2</th>\n",
       "      <td>10</td>\n",
       "      <td>1 / (x^1.01)</td>\n",
       "      <td>1 / (x + 5)</td>\n",
       "      <td>28431.08</td>\n",
       "    </tr>\n",
       "    <tr>\n",
       "      <th>3</th>\n",
       "      <td>10</td>\n",
       "      <td>1 / (x^1.01)</td>\n",
       "      <td>1 / (x + 25)</td>\n",
       "      <td>28517.11</td>\n",
       "    </tr>\n",
       "  </tbody>\n",
       "</table>\n",
       "</div>"
      ],
      "text/plain": [
       "  windows weight_function   alpha_function      mean\n",
       "1      10    1 / (x^1.01)      1 / (x + 1)  28413.14\n",
       "4      10    1 / (x^1.01)  1 / (x + 1)^0.1  32871.58\n",
       "0      10    1 / (x^1.01)  1 / (x + 1)^0.5  28597.43\n",
       "2      10    1 / (x^1.01)      1 / (x + 5)  28431.08\n",
       "3      10    1 / (x^1.01)     1 / (x + 25)  28517.11"
      ]
     },
     "execution_count": 6,
     "metadata": {},
     "output_type": "execute_result"
    }
   ],
   "source": [
    "df_a = df[df[\"weight_function\"] == \"1 / (x^1.01)\"].iloc[:,:4]\n",
    "df_a"
   ]
  },
  {
   "cell_type": "code",
   "execution_count": 7,
   "id": "6eefed08-d66c-4679-9b9f-ac2c114c9d57",
   "metadata": {},
   "outputs": [
    {
     "ename": "KeyError",
     "evalue": "\"['train_window'] not in index\"",
     "output_type": "error",
     "traceback": [
      "\u001b[0;31m---------------------------------------------------------------------------\u001b[0m",
      "\u001b[0;31mKeyError\u001b[0m                                  Traceback (most recent call last)",
      "Cell \u001b[0;32mIn[7], line 1\u001b[0m\n\u001b[0;32m----> 1\u001b[0m \u001b[43mdf\u001b[49m\u001b[43m[\u001b[49m\u001b[43m[\u001b[49m\u001b[38;5;124;43m\"\u001b[39;49m\u001b[38;5;124;43mtrain_window\u001b[39;49m\u001b[38;5;124;43m\"\u001b[39;49m\u001b[43m,\u001b[49m\u001b[43m \u001b[49m\u001b[38;5;124;43m\"\u001b[39;49m\u001b[38;5;124;43mmean\u001b[39;49m\u001b[38;5;124;43m\"\u001b[39;49m\u001b[43m]\u001b[49m\u001b[43m]\u001b[49m\u001b[38;5;241m.\u001b[39mgroupby(\u001b[38;5;124m\"\u001b[39m\u001b[38;5;124mtrain_window\u001b[39m\u001b[38;5;124m\"\u001b[39m)\u001b[38;5;241m.\u001b[39mmean()\n",
      "File \u001b[0;32m~/miniforge3/lib/python3.10/site-packages/pandas/core/frame.py:3767\u001b[0m, in \u001b[0;36mDataFrame.__getitem__\u001b[0;34m(self, key)\u001b[0m\n\u001b[1;32m   3765\u001b[0m     \u001b[38;5;28;01mif\u001b[39;00m is_iterator(key):\n\u001b[1;32m   3766\u001b[0m         key \u001b[38;5;241m=\u001b[39m \u001b[38;5;28mlist\u001b[39m(key)\n\u001b[0;32m-> 3767\u001b[0m     indexer \u001b[38;5;241m=\u001b[39m \u001b[38;5;28;43mself\u001b[39;49m\u001b[38;5;241;43m.\u001b[39;49m\u001b[43mcolumns\u001b[49m\u001b[38;5;241;43m.\u001b[39;49m\u001b[43m_get_indexer_strict\u001b[49m\u001b[43m(\u001b[49m\u001b[43mkey\u001b[49m\u001b[43m,\u001b[49m\u001b[43m \u001b[49m\u001b[38;5;124;43m\"\u001b[39;49m\u001b[38;5;124;43mcolumns\u001b[39;49m\u001b[38;5;124;43m\"\u001b[39;49m\u001b[43m)\u001b[49m[\u001b[38;5;241m1\u001b[39m]\n\u001b[1;32m   3769\u001b[0m \u001b[38;5;66;03m# take() does not accept boolean indexers\u001b[39;00m\n\u001b[1;32m   3770\u001b[0m \u001b[38;5;28;01mif\u001b[39;00m \u001b[38;5;28mgetattr\u001b[39m(indexer, \u001b[38;5;124m\"\u001b[39m\u001b[38;5;124mdtype\u001b[39m\u001b[38;5;124m\"\u001b[39m, \u001b[38;5;28;01mNone\u001b[39;00m) \u001b[38;5;241m==\u001b[39m \u001b[38;5;28mbool\u001b[39m:\n",
      "File \u001b[0;32m~/miniforge3/lib/python3.10/site-packages/pandas/core/indexes/base.py:5877\u001b[0m, in \u001b[0;36mIndex._get_indexer_strict\u001b[0;34m(self, key, axis_name)\u001b[0m\n\u001b[1;32m   5874\u001b[0m \u001b[38;5;28;01melse\u001b[39;00m:\n\u001b[1;32m   5875\u001b[0m     keyarr, indexer, new_indexer \u001b[38;5;241m=\u001b[39m \u001b[38;5;28mself\u001b[39m\u001b[38;5;241m.\u001b[39m_reindex_non_unique(keyarr)\n\u001b[0;32m-> 5877\u001b[0m \u001b[38;5;28;43mself\u001b[39;49m\u001b[38;5;241;43m.\u001b[39;49m\u001b[43m_raise_if_missing\u001b[49m\u001b[43m(\u001b[49m\u001b[43mkeyarr\u001b[49m\u001b[43m,\u001b[49m\u001b[43m \u001b[49m\u001b[43mindexer\u001b[49m\u001b[43m,\u001b[49m\u001b[43m \u001b[49m\u001b[43maxis_name\u001b[49m\u001b[43m)\u001b[49m\n\u001b[1;32m   5879\u001b[0m keyarr \u001b[38;5;241m=\u001b[39m \u001b[38;5;28mself\u001b[39m\u001b[38;5;241m.\u001b[39mtake(indexer)\n\u001b[1;32m   5880\u001b[0m \u001b[38;5;28;01mif\u001b[39;00m \u001b[38;5;28misinstance\u001b[39m(key, Index):\n\u001b[1;32m   5881\u001b[0m     \u001b[38;5;66;03m# GH 42790 - Preserve name from an Index\u001b[39;00m\n",
      "File \u001b[0;32m~/miniforge3/lib/python3.10/site-packages/pandas/core/indexes/base.py:5941\u001b[0m, in \u001b[0;36mIndex._raise_if_missing\u001b[0;34m(self, key, indexer, axis_name)\u001b[0m\n\u001b[1;32m   5938\u001b[0m     \u001b[38;5;28;01mraise\u001b[39;00m \u001b[38;5;167;01mKeyError\u001b[39;00m(\u001b[38;5;124mf\u001b[39m\u001b[38;5;124m\"\u001b[39m\u001b[38;5;124mNone of [\u001b[39m\u001b[38;5;132;01m{\u001b[39;00mkey\u001b[38;5;132;01m}\u001b[39;00m\u001b[38;5;124m] are in the [\u001b[39m\u001b[38;5;132;01m{\u001b[39;00maxis_name\u001b[38;5;132;01m}\u001b[39;00m\u001b[38;5;124m]\u001b[39m\u001b[38;5;124m\"\u001b[39m)\n\u001b[1;32m   5940\u001b[0m not_found \u001b[38;5;241m=\u001b[39m \u001b[38;5;28mlist\u001b[39m(ensure_index(key)[missing_mask\u001b[38;5;241m.\u001b[39mnonzero()[\u001b[38;5;241m0\u001b[39m]]\u001b[38;5;241m.\u001b[39munique())\n\u001b[0;32m-> 5941\u001b[0m \u001b[38;5;28;01mraise\u001b[39;00m \u001b[38;5;167;01mKeyError\u001b[39;00m(\u001b[38;5;124mf\u001b[39m\u001b[38;5;124m\"\u001b[39m\u001b[38;5;132;01m{\u001b[39;00mnot_found\u001b[38;5;132;01m}\u001b[39;00m\u001b[38;5;124m not in index\u001b[39m\u001b[38;5;124m\"\u001b[39m)\n",
      "\u001b[0;31mKeyError\u001b[0m: \"['train_window'] not in index\""
     ]
    }
   ],
   "source": [
    "df[[\"train_window\", \"mean\"]].groupby(\"train_window\").mean()"
   ]
  }
 ],
 "metadata": {
  "kernelspec": {
   "display_name": "Python 3 (ipykernel)",
   "language": "python",
   "name": "python3"
  },
  "language_info": {
   "codemirror_mode": {
    "name": "ipython",
    "version": 3
   },
   "file_extension": ".py",
   "mimetype": "text/x-python",
   "name": "python",
   "nbconvert_exporter": "python",
   "pygments_lexer": "ipython3",
   "version": "3.10.9"
  }
 },
 "nbformat": 4,
 "nbformat_minor": 5
}
