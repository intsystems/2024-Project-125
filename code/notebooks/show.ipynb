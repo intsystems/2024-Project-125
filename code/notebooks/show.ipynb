{
 "cells": [
  {
   "cell_type": "code",
   "execution_count": 1,
   "id": "76de2c11-d695-4ce7-a625-41fdd29e0756",
   "metadata": {
    "ExecuteTime": {
     "end_time": "2024-03-24T19:14:25.483794Z",
     "start_time": "2024-03-24T19:14:25.435142Z"
    }
   },
   "outputs": [],
   "source": [
    "import numpy as np\n",
    "from statsmodels.tsa.arima.model import ARIMA\n",
    "import matplotlib.pyplot as plt\n",
    "# import seaborn as sns\n",
    "import warnings\n",
    "# warnings.filterwarnings('ignore')\n",
    "plt.rcParams['figure.dpi'] = 80\n",
    "# plt.rcParams['axes.grid'] = True\n",
    "# sns.set()\n",
    "from statsmodels.tools.sm_exceptions import ConvergenceWarning\n",
    "warnings.simplefilter('ignore', ConvergenceWarning)"
   ]
  },
  {
   "cell_type": "code",
   "execution_count": 2,
   "id": "0ec19dc3-d4b4-43cd-b822-64f98a53ddb1",
   "metadata": {
    "ExecuteTime": {
     "end_time": "2024-03-24T19:14:26.177179Z",
     "start_time": "2024-03-24T19:14:25.450178Z"
    }
   },
   "outputs": [],
   "source": [
    "import sys\n",
    "sys.path.insert(0, '..')\n",
    "from synthesizer import Synthesizer\n",
    "from generator import Generator\n",
    "from algorithm import Algorithm\n",
    "from analysis import Analysis\n",
    "\n",
    "from hypers import weight_hypers\n",
    "from hypers import alpha_hypers"
   ]
  },
  {
   "cell_type": "code",
   "execution_count": 3,
   "id": "d0a4b908-4e93-4163-8a23-96954da66d46",
   "metadata": {
    "ExecuteTime": {
     "end_time": "2024-03-24T19:14:35.472165Z",
     "start_time": "2024-03-24T19:14:26.178374Z"
    }
   },
   "outputs": [],
   "source": [
    "series_type = \"default\"\n",
    "from_start = False\n",
    "a, b = -40, 40\n",
    "train_window = 10\n",
    "\n",
    "np.random.seed(3)\n",
    "# Cоздание синтезатора, cпособного создавать workers_num наборов параметров, для каждого из которых генерировать временные ряды.\n",
    "# Сигнал - случайный вектор из нормального распределения. Отклик - скалярное произведение сигнала на вектор весов плюс нормальный шум из N(0,1)\n",
    "synt = Synthesizer(series_type, dim=10, low=-10, high=10, clip=(a, b),\n",
    "                   noise_var=1, workers_num=5)\n",
    "\n",
    "# Создание генератора данных, склеивающего разнородные временные ряды в один \n",
    "# В данном случае источник рядов - наш синтезатор\n",
    "gen = Generator(series_type, synt)\n",
    "\n",
    "# Получение итогового временного ряда путем получения от синтезатора pieces_num временных рядов \n",
    "# произвольного размера из [lower_bound, upper_bound) и их последующей склейки\n",
    "gen.generate(length=2000, from_start=from_start, lower_bound=50, upper_bound=300, alternating=True)"
   ]
  },
  {
   "cell_type": "code",
   "execution_count": 4,
   "id": "7f38e7b3-64d0-46a0-9550-8b85a724a5e6",
   "metadata": {},
   "outputs": [],
   "source": [
    "# gen.show_time_series()"
   ]
  },
  {
   "cell_type": "code",
   "execution_count": 5,
   "id": "a9b0ffaf-1a6c-4eea-bb6a-5c4e11c29170",
   "metadata": {},
   "outputs": [],
   "source": [
    "# gen.draw_merged()"
   ]
  },
  {
   "cell_type": "code",
   "execution_count": 6,
   "id": "b7de1531-2ffa-4428-a688-d5de8b601b37",
   "metadata": {},
   "outputs": [
    {
     "name": "stderr",
     "output_type": "stream",
     "text": [
      "100%|████████████████████████████████████████████████████████████████████████████████████| 3072/3072 [01:33<00:00, 32.82it/s]\n"
     ]
    }
   ],
   "source": [
    "# gen.launch()\n",
    "# algo1 = Algorithm(\"arima\", gen, train_window=train_window, a=a, b=b)\n",
    "# algo1.run()\n",
    "# algo1.post_calculations(from_start=from_start)\n",
    "\n",
    "gen.launch()\n",
    "algo0 = Algorithm(\"default\", gen, train_window=train_window, a=a, b=b, mixing_type=\"start\")\n",
    "algo0.run()\n",
    "anl0 = Analysis(algo0)\n",
    "anl0.post_calculations(from_start=from_start)"
   ]
  },
  {
   "cell_type": "code",
   "execution_count": 7,
   "id": "0f68ad64-f483-4aec-8dd2-08d6db0f96b7",
   "metadata": {},
   "outputs": [
    {
     "name": "stderr",
     "output_type": "stream",
     "text": [
      "100%|████████████████████████████████████████████████████████████████████████████████████| 3072/3072 [02:05<00:00, 24.49it/s]\n"
     ]
    }
   ],
   "source": [
    "gen.launch()\n",
    "algo0_dec = Algorithm(\"default\", gen, train_window=train_window, a=a, b=b, mixing_type=\"decaying past\")\n",
    "algo0_dec.run()\n",
    "anl0_dec = Analysis(algo0_dec)\n",
    "anl0_dec.post_calculations(from_start=from_start)"
   ]
  },
  {
   "cell_type": "code",
   "execution_count": 8,
   "id": "88315a10-95d9-4b15-90a6-6c4a0dbf3a06",
   "metadata": {},
   "outputs": [
    {
     "ename": "NameError",
     "evalue": "name 'draw_several' is not defined",
     "output_type": "error",
     "traceback": [
      "\u001b[0;31m---------------------------------------------------------------------------\u001b[0m",
      "\u001b[0;31mNameError\u001b[0m                                 Traceback (most recent call last)",
      "Cell \u001b[0;32mIn[8], line 8\u001b[0m\n\u001b[1;32m      4\u001b[0m labels \u001b[38;5;241m=\u001b[39m [\u001b[38;5;124m\"\u001b[39m\u001b[38;5;124mMaster default + start\u001b[39m\u001b[38;5;124m\"\u001b[39m, \n\u001b[1;32m      5\u001b[0m          \u001b[38;5;124m\"\u001b[39m\u001b[38;5;124mMaster default + decaying past\u001b[39m\u001b[38;5;124m\"\u001b[39m]\n\u001b[1;32m      6\u001b[0m colors \u001b[38;5;241m=\u001b[39m [\u001b[38;5;28;01mNone\u001b[39;00m] \u001b[38;5;241m*\u001b[39m \u001b[38;5;241m2\u001b[39m\n\u001b[0;32m----> 8\u001b[0m \u001b[43mdraw_several\u001b[49m(from_start\u001b[38;5;241m=\u001b[39m\u001b[38;5;28;01mFalse\u001b[39;00m, anls\u001b[38;5;241m=\u001b[39manls, labels\u001b[38;5;241m=\u001b[39mlabels, colors\u001b[38;5;241m=\u001b[39mcolors, title\u001b[38;5;241m=\u001b[39m\u001b[38;5;28;01mNone\u001b[39;00m, fig_size\u001b[38;5;241m=\u001b[39m(\u001b[38;5;241m15\u001b[39m, \u001b[38;5;241m5\u001b[39m), loc\u001b[38;5;241m=\u001b[39m\u001b[38;5;124m'\u001b[39m\u001b[38;5;124mupper left\u001b[39m\u001b[38;5;124m'\u001b[39m)\n",
      "\u001b[0;31mNameError\u001b[0m: name 'draw_several' is not defined"
     ]
    }
   ],
   "source": [
    "# from analysis import draw_several\n",
    "\n",
    "anls = [anl0, anl0_dec]\n",
    "labels = [\"Master default + start\", \n",
    "         \"Master default + decaying past\"]\n",
    "colors = [None] * 2\n",
    "\n",
    "draw_several(from_start=False, anls=anls, labels=labels, colors=colors, title=None, fig_size=(15, 5), loc='upper left')\n"
   ]
  },
  {
   "cell_type": "code",
   "execution_count": null,
   "id": "019b1a07-212e-4e5b-aae9-a9292ec60454",
   "metadata": {},
   "outputs": [],
   "source": []
  },
  {
   "cell_type": "code",
   "execution_count": null,
   "id": "6ebb4af7-f0b3-4213-8878-7a97ae4344ce",
   "metadata": {},
   "outputs": [],
   "source": [
    "anl0_dec.draw_all(from_start=True, show=[\"master\", \"ideal\"], show_experts=[], show_axes=[\"regret\"], height_ratios=[1], \n",
    "                  suptitle=f\"Cumulative losses plot\", fig_size=(12, 8))"
   ]
  },
  {
   "cell_type": "code",
   "execution_count": null,
   "id": "29bda600-67b0-4eaf-9677-d364263bf8a7",
   "metadata": {},
   "outputs": [],
   "source": [
    "anl0.regret"
   ]
  },
  {
   "cell_type": "code",
   "execution_count": null,
   "id": "39e3bbdb-902d-4080-9a38-deaccf03ff3b",
   "metadata": {},
   "outputs": [],
   "source": [
    "\n",
    "\n",
    "# gen.launch()\n",
    "# algo0_uni = Algorithm(\"default\", gen, train_window=train_window, a=a, b=b, share_type=\"uniform past\")\n",
    "# algo0_uni.run()\n",
    "# algo0_uni.post_calculations(from_start=from_start)\n",
    "\n",
    "\n",
    "wh = weight_hypers[\"simple_101\"]\n",
    "# gen.launch()\n",
    "# algo1 = Algorithm(\"default\", gen, train_window=train_window, a=a, b=b, weights_func=wh.func, weight_const=wh.const, share_type=\"start\")\n",
    "# algo1.run()\n",
    "# algo1.post_calculations(from_start=from_start)\n",
    "\n",
    "# gen.launch()\n",
    "# algo1_dec = Algorithm(\"default\", gen, train_window=train_window, a=a, b=b, weights_func=wh.func, weight_const=wh.const, share_type=\"decaying past\")\n",
    "# algo1_dec.run()\n",
    "# algo1_dec.post_calculations(from_start=from_start)\n",
    "\n",
    "# gen.launch()\n",
    "# algo1_uni = Algorithm(\"default\", gen, train_window=train_window, a=a, b=b, weights_func=wh.func, weight_const=wh.const, share_type=\"uniform past\")\n",
    "# algo1_uni.run()\n",
    "# algo1_uni.post_calculations(from_start=from_start)\n",
    "\n",
    "# gen.launch()\n",
    "# wh = weight_hypers[\"simple_101\"]\n",
    "# ah = alpha_hypers[]\n",
    "# algo2 = Algorithm(\"default\", gen, train_window=train_window, a=a, b=b, weights_func=wh.func, weight_const=wh.const)\n",
    "# algo2.run()\n",
    "# algo2.post_calculations(from_start=from_start)"
   ]
  },
  {
   "cell_type": "code",
   "execution_count": null,
   "id": "a2f83761-4285-45d7-acce-a57ae397f68b",
   "metadata": {},
   "outputs": [],
   "source": [
    "gen.total_time"
   ]
  },
  {
   "cell_type": "code",
   "execution_count": null,
   "id": "1c805729-89c5-4561-85c2-7ef630f8c0ad",
   "metadata": {},
   "outputs": [],
   "source": [
    "draw_all(algo0_dec)"
   ]
  },
  {
   "cell_type": "code",
   "execution_count": null,
   "id": "a1f320dd-0f90-4278-bc8a-854d2a225e21",
   "metadata": {},
   "outputs": [],
   "source": [
    "print(algo0.regret)\n",
    "print(algo0_uni.regret)\n",
    "print(algo0_dec.regret)\n",
    "print(algo1.regret)\n",
    "print(algo1_uni.regret)\n",
    "print(algo1_dec.regret)"
   ]
  },
  {
   "cell_type": "code",
   "execution_count": null,
   "id": "44404531-1380-419a-a614-ada6d61acf1d",
   "metadata": {},
   "outputs": [],
   "source": [
    "algo0.draw_all(show=[\"master\", \"ideal\"], show_experts=[], show_axes=[\"regret\"], height_ratios=[1], \n",
    "                  suptitle=f\"Cumulative losses plot\", fig_size=(12, 8))"
   ]
  },
  {
   "cell_type": "code",
   "execution_count": null,
   "id": "28ec062c-fa78-46cf-8558-45bbb006cace",
   "metadata": {},
   "outputs": [],
   "source": [
    "# diff = algo1.experts_predictions_all.T[485] - algo0.experts_predictions_all.T[485]\n",
    "# plt.plot(diff[:485])\n",
    "# plt.plot(algo0.experts_losses_all.T[485][485:].cumsum(), alpha=0.3)\n",
    "# plt.plot(algo1.experts_losses_all.T[485][485:].cumsum(), alpha=0.3)\n",
    "# for i in np.arange(1, 2703):\n",
    "#     diff = algo1.experts_losses_all.T[i][i:].sum() - algo0.experts_losses_all.T[i][i:].sum()\n",
    "#     if np.abs(diff) > 1:\n",
    "#         print(i, diff, algo1.experts_losses_all.T[i][i:].sum(), algo0.experts_losses_all.T[i][i:].sum())\n",
    "    \n",
    "# 2000 * (algo1.experts_losses_all.T[485][485:].sum() - algo0.experts_losses_all.T[485][485:].sum())"
   ]
  },
  {
   "cell_type": "code",
   "execution_count": null,
   "id": "8cdb94cd-3ddf-41c7-ab3b-baf84e21a64e",
   "metadata": {},
   "outputs": [],
   "source": [
    "def draw_weights(algo, tit):\n",
    "    \n",
    "    fig, ax = plt.subplots(3, 1, figsize=(14, 8), sharey=True)\n",
    "    for i in range(3):\n",
    "        ax[i].set_yscale(\"log\")\n",
    "    ax[0].plot(algo.weights_all.T[1][0:], label=\"Expert №1\")\n",
    "    ax[0].plot(algo.weights_all.T[2][0:], label=\"Expert №2\")\n",
    "    ax[0].plot(algo.weights_all.T[3][0:], label=\"Expert №3\")\n",
    "    ax[0].plot(algo.weights_all.T[4][0:], label=\"Expert №4\")\n",
    "    ax[0].set_title(tit)\n",
    "    \n",
    "    ax[0].legend()\n",
    "\n",
    "    \n",
    "    ax[2].plot(algo.weights_all.T[100][0:], label=\"Expert №100\")\n",
    "    ax[2].plot(algo.weights_all.T[400][0:], label=\"Expert №400\")\n",
    "    ax[2].plot(algo.weights_all.T[700][0:], label=\"Expert №700\")\n",
    "    ax[2].plot(algo.weights_all.T[1100][0:], label=\"Expert №1100\")\n",
    "    # ax[2].set_ylim(0, 0.0002)\n",
    "    ax[2].legend(loc='upper right')\n",
    "    ax[1].plot(algo.weights_all.T[11][0:], label=\"Expert №11\")\n",
    "    ax[1].plot(algo.weights_all.T[12][0:], label=\"Expert №12\")\n",
    "    ax[1].plot(algo.weights_all.T[13][0:], label=\"Expert №13\")\n",
    "    ax[1].plot(algo.weights_all.T[14][0:], label=\"Expert №14\")\n",
    "    ax[1].legend()\n",
    "    # ax[3].set_ylim(0, 0.0002)\n",
    "    \n",
    "    \n",
    "    logs = algo\n",
    "    shift=0\n",
    "    text_idx=0\n",
    "    bottom, top = ax[text_idx].get_ybound()\n",
    "    left, right = ax[text_idx].get_xbound()\n",
    "    for gen_idx, gen_stamp in zip(np.r_[logs.indexes, -1], logs.stamps):\n",
    "        if gen_stamp < shift:\n",
    "            continue\n",
    "        for i in range(len(ax)):\n",
    "            ax[i].axvline(gen_stamp - shift, color='orange', linestyle=':')\n",
    "        if gen_idx != -1:\n",
    "            ax[text_idx].text(x=gen_stamp - shift + 0.005 * (right - left), y=top - 0.12 * (top - bottom),\n",
    "                              s=f\"gen {gen_idx}\", color='orange', rotation=15)\n",
    "                \n",
    "    plt.show()"
   ]
  },
  {
   "cell_type": "code",
   "execution_count": null,
   "id": "a85e84b7-f633-40de-b98d-1c10361c70a9",
   "metadata": {},
   "outputs": [],
   "source": [
    "draw_weights(algo0, \"Динамика весов экспертов в обычной линейной регрессии\")"
   ]
  },
  {
   "cell_type": "code",
   "execution_count": null,
   "id": "a514e2ba-ec5a-4e18-bea8-92b1bb087736",
   "metadata": {},
   "outputs": [],
   "source": [
    "plt.plot(algo0.weights_all.T[430])"
   ]
  }
 ],
 "metadata": {
  "kernelspec": {
   "display_name": "Python 3 (ipykernel)",
   "language": "python",
   "name": "python3"
  },
  "language_info": {
   "codemirror_mode": {
    "name": "ipython",
    "version": 3
   },
   "file_extension": ".py",
   "mimetype": "text/x-python",
   "name": "python",
   "nbconvert_exporter": "python",
   "pygments_lexer": "ipython3",
   "version": "3.10.9"
  }
 },
 "nbformat": 4,
 "nbformat_minor": 5
}
