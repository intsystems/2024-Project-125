{
 "cells": [
  {
   "cell_type": "code",
   "execution_count": 1,
   "id": "76de2c11-d695-4ce7-a625-41fdd29e0756",
   "metadata": {
    "ExecuteTime": {
     "end_time": "2024-03-24T19:14:25.483794Z",
     "start_time": "2024-03-24T19:14:25.435142Z"
    }
   },
   "outputs": [],
   "source": [
    "import numpy as np\n",
    "from statsmodels.tsa.arima.model import ARIMA\n",
    "import matplotlib.pyplot as plt\n",
    "# import seaborn as sns\n",
    "import warnings\n",
    "# warnings.filterwarnings('ignore')\n",
    "plt.rcParams['figure.dpi'] = 80\n",
    "# plt.rcParams['axes.grid'] = True\n",
    "# sns.set()\n",
    "from statsmodels.tools.sm_exceptions import ConvergenceWarning\n",
    "warnings.simplefilter('ignore', ConvergenceWarning)"
   ]
  },
  {
   "cell_type": "code",
   "execution_count": 2,
   "id": "0ec19dc3-d4b4-43cd-b822-64f98a53ddb1",
   "metadata": {
    "ExecuteTime": {
     "end_time": "2024-03-24T19:14:26.177179Z",
     "start_time": "2024-03-24T19:14:25.450178Z"
    }
   },
   "outputs": [],
   "source": [
    "import sys\n",
    "sys.path.insert(0, '..')\n",
    "from synthesizer import Synthesizer\n",
    "from generator import Generator\n",
    "from algorithm import Algorithm\n",
    "\n",
    "\n",
    "from hypers import weight_hypers\n",
    "from hypers import alpha_hypers"
   ]
  },
  {
   "cell_type": "code",
   "execution_count": 3,
   "id": "d0a4b908-4e93-4163-8a23-96954da66d46",
   "metadata": {
    "ExecuteTime": {
     "end_time": "2024-03-24T19:14:35.472165Z",
     "start_time": "2024-03-24T19:14:26.178374Z"
    }
   },
   "outputs": [],
   "source": [
    "series_type = \"default\"\n",
    "from_start = False\n",
    "a, b = -40, 40\n",
    "train_window = 10\n",
    "\n",
    "# Cоздание синтезатора, cпособного создавать workers_num наборов параметров, для каждого из которых генерировать временные ряды.\n",
    "# Сигнал - случайный вектор из нормального распределения. Отклик - скалярное произведение сигнала на вектор весов плюс нормальный шум из N(0,1)\n",
    "synt = Synthesizer(series_type, dim=10, low=-10, high=10, clip=(a, b),\n",
    "                   noise_var=1, workers_num=3, random_seed=131)\n",
    "\n",
    "# Создание генератора данных, склеивающего разнородные временные ряды в один \n",
    "# В данном случае источник рядов - наш синтезатор\n",
    "gen = Generator(series_type, synt)\n",
    "\n",
    "# Получение итогового временного ряда путем получения от синтезатора pieces_num временных рядов \n",
    "# произвольного размера из [lower_bound, upper_bound) и их последующей склейки\n",
    "gen.generate(length=2000, from_start=from_start, lower_bound=100, upper_bound=400, alternating=True)"
   ]
  },
  {
   "cell_type": "code",
   "execution_count": 4,
   "id": "7f38e7b3-64d0-46a0-9550-8b85a724a5e6",
   "metadata": {},
   "outputs": [],
   "source": [
    "# gen.show_time_series()"
   ]
  },
  {
   "cell_type": "code",
   "execution_count": 5,
   "id": "a9b0ffaf-1a6c-4eea-bb6a-5c4e11c29170",
   "metadata": {},
   "outputs": [],
   "source": [
    "# gen.draw_merged()"
   ]
  },
  {
   "cell_type": "code",
   "execution_count": 6,
   "id": "82c0cb6a-e45e-461e-a4fa-d1a9a2996c3c",
   "metadata": {},
   "outputs": [
    {
     "name": "stderr",
     "output_type": "stream",
     "text": [
      "100%|███████████████████████████████████████████████████████████████████████████████████████████████████████| 2703/2703 [01:30<00:00, 29.80it/s]\n",
      "100%|███████████████████████████████████████████████████████████████████████████████████████████████████████| 2703/2703 [01:30<00:00, 29.81it/s]\n"
     ]
    }
   ],
   "source": [
    "# gen.launch()\n",
    "# algo1 = Algorithm(\"arima\", gen, train_window=train_window, a=a, b=b)\n",
    "# algo1.run()\n",
    "# algo1.post_calculations(from_start=from_start)\n",
    "\n",
    "# gen.launch()\n",
    "# algo0 = Algorithm(\"default\", gen, train_window=train_window, a=a, b=b, share_type=\"start\")\n",
    "# algo0.run()\n",
    "# algo0.post_calculations(from_start=from_start)\n",
    "\n",
    "gen.launch()\n",
    "algo0_dec = Algorithm(\"default\", gen, train_window=train_window, a=a, b=b, share_type=\"decaying past\")\n",
    "algo0_dec.run()\n",
    "algo0_dec.post_calculations(from_start=from_start)\n",
    "\n",
    "# gen.launch()\n",
    "# algo0_uni = Algorithm(\"default\", gen, train_window=train_window, a=a, b=b, share_type=\"uniform past\")\n",
    "# algo0_uni.run()\n",
    "# algo0_uni.post_calculations(from_start=from_start)\n",
    "\n",
    "\n",
    "wh = weight_hypers[\"simple_101\"]\n",
    "# gen.launch()\n",
    "# algo1 = Algorithm(\"default\", gen, train_window=train_window, a=a, b=b, weights_func=wh.func, weight_const=wh.const, share_type=\"start\")\n",
    "# algo1.run()\n",
    "# algo1.post_calculations(from_start=from_start)\n",
    "\n",
    "gen.launch()\n",
    "algo1_dec = Algorithm(\"default\", gen, train_window=train_window, a=a, b=b, weights_func=wh.func, weight_const=wh.const, share_type=\"decaying past\")\n",
    "algo1_dec.run()\n",
    "algo1_dec.post_calculations(from_start=from_start)\n",
    "\n",
    "# gen.launch()\n",
    "# algo1_uni = Algorithm(\"default\", gen, train_window=train_window, a=a, b=b, weights_func=wh.func, weight_const=wh.const, share_type=\"uniform past\")\n",
    "# algo1_uni.run()\n",
    "# algo1_uni.post_calculations(from_start=from_start)\n",
    "\n",
    "# gen.launch()\n",
    "# wh = weight_hypers[\"simple_101\"]\n",
    "# ah = alpha_hypers[]\n",
    "# algo2 = Algorithm(\"default\", gen, train_window=train_window, a=a, b=b, weights_func=wh.func, weight_const=wh.const)\n",
    "# algo2.run()\n",
    "# algo2.post_calculations(from_start=from_start)\n",
    "\n"
   ]
  },
  {
   "cell_type": "code",
   "execution_count": 7,
   "id": "a1f320dd-0f90-4278-bc8a-854d2a225e21",
   "metadata": {},
   "outputs": [
    {
     "ename": "NameError",
     "evalue": "name 'algo0' is not defined",
     "output_type": "error",
     "traceback": [
      "\u001b[0;31m---------------------------------------------------------------------------\u001b[0m",
      "\u001b[0;31mNameError\u001b[0m                                 Traceback (most recent call last)",
      "Cell \u001b[0;32mIn[7], line 1\u001b[0m\n\u001b[0;32m----> 1\u001b[0m \u001b[38;5;28mprint\u001b[39m(\u001b[43malgo0\u001b[49m\u001b[38;5;241m.\u001b[39mregret)\n\u001b[1;32m      2\u001b[0m \u001b[38;5;28mprint\u001b[39m(algo0_uni\u001b[38;5;241m.\u001b[39mregret)\n\u001b[1;32m      3\u001b[0m \u001b[38;5;28mprint\u001b[39m(algo0_dec\u001b[38;5;241m.\u001b[39mregret)\n",
      "\u001b[0;31mNameError\u001b[0m: name 'algo0' is not defined"
     ]
    }
   ],
   "source": [
    "print(algo0.regret)\n",
    "print(algo0_uni.regret)\n",
    "print(algo0_dec.regret)\n",
    "print(algo1.regret)\n",
    "print(algo1_uni.regret)\n",
    "print(algo1_dec.regret)"
   ]
  },
  {
   "cell_type": "code",
   "execution_count": null,
   "id": "44404531-1380-419a-a614-ada6d61acf1d",
   "metadata": {},
   "outputs": [],
   "source": [
    "algo0.draw_all(show=[\"master\", \"ideal\"], show_experts=[], show_axes=[\"regret\"], height_ratios=[1], \n",
    "                  suptitle=f\"Cumulative losses plot\", fig_size=(12, 8))"
   ]
  },
  {
   "cell_type": "code",
   "execution_count": null,
   "id": "28ec062c-fa78-46cf-8558-45bbb006cace",
   "metadata": {},
   "outputs": [],
   "source": [
    "# diff = algo1.experts_predictions_all.T[485] - algo0.experts_predictions_all.T[485]\n",
    "# plt.plot(diff[:485])\n",
    "# plt.plot(algo0.experts_losses_all.T[485][485:].cumsum(), alpha=0.3)\n",
    "# plt.plot(algo1.experts_losses_all.T[485][485:].cumsum(), alpha=0.3)\n",
    "# for i in np.arange(1, 2703):\n",
    "#     diff = algo1.experts_losses_all.T[i][i:].sum() - algo0.experts_losses_all.T[i][i:].sum()\n",
    "#     if np.abs(diff) > 1:\n",
    "#         print(i, diff, algo1.experts_losses_all.T[i][i:].sum(), algo0.experts_losses_all.T[i][i:].sum())\n",
    "    \n",
    "# 2000 * (algo1.experts_losses_all.T[485][485:].sum() - algo0.experts_losses_all.T[485][485:].sum())"
   ]
  },
  {
   "cell_type": "code",
   "execution_count": null,
   "id": "8cdb94cd-3ddf-41c7-ab3b-baf84e21a64e",
   "metadata": {},
   "outputs": [],
   "source": [
    "def draw_weights(algo, tit):\n",
    "    \n",
    "    fig, ax = plt.subplots(3, 1, figsize=(14, 8), sharey=True)\n",
    "    for i in range(3):\n",
    "        ax[i].set_yscale(\"log\")\n",
    "    ax[0].plot(algo.weights_all.T[1][0:], label=\"Expert №1\")\n",
    "    ax[0].plot(algo.weights_all.T[2][0:], label=\"Expert №2\")\n",
    "    ax[0].plot(algo.weights_all.T[3][0:], label=\"Expert №3\")\n",
    "    ax[0].plot(algo.weights_all.T[4][0:], label=\"Expert №4\")\n",
    "    ax[0].set_title(tit)\n",
    "    \n",
    "    ax[0].legend()\n",
    "\n",
    "    \n",
    "    ax[2].plot(algo.weights_all.T[100][0:], label=\"Expert №100\")\n",
    "    ax[2].plot(algo.weights_all.T[400][0:], label=\"Expert №400\")\n",
    "    ax[2].plot(algo.weights_all.T[700][0:], label=\"Expert №700\")\n",
    "    ax[2].plot(algo.weights_all.T[1100][0:], label=\"Expert №1100\")\n",
    "    # ax[2].set_ylim(0, 0.0002)\n",
    "    ax[2].legend(loc='upper right')\n",
    "    ax[1].plot(algo.weights_all.T[11][0:], label=\"Expert №11\")\n",
    "    ax[1].plot(algo.weights_all.T[12][0:], label=\"Expert №12\")\n",
    "    ax[1].plot(algo.weights_all.T[13][0:], label=\"Expert №13\")\n",
    "    ax[1].plot(algo.weights_all.T[14][0:], label=\"Expert №14\")\n",
    "    ax[1].legend()\n",
    "    # ax[3].set_ylim(0, 0.0002)\n",
    "    \n",
    "    \n",
    "    logs = algo\n",
    "    shift=0\n",
    "    text_idx=0\n",
    "    bottom, top = ax[text_idx].get_ybound()\n",
    "    left, right = ax[text_idx].get_xbound()\n",
    "    for gen_idx, gen_stamp in zip(np.r_[logs.indexes, -1], logs.stamps):\n",
    "        if gen_stamp < shift:\n",
    "            continue\n",
    "        for i in range(len(ax)):\n",
    "            ax[i].axvline(gen_stamp - shift, color='orange', linestyle=':')\n",
    "        if gen_idx != -1:\n",
    "            ax[text_idx].text(x=gen_stamp - shift + 0.005 * (right - left), y=top - 0.12 * (top - bottom),\n",
    "                              s=f\"gen {gen_idx}\", color='orange', rotation=15)\n",
    "                \n",
    "    plt.show()"
   ]
  },
  {
   "cell_type": "code",
   "execution_count": null,
   "id": "a85e84b7-f633-40de-b98d-1c10361c70a9",
   "metadata": {},
   "outputs": [],
   "source": [
    "draw_weights(algo0, \"Динамика весов экспертов в обычной линейной регрессии\")"
   ]
  },
  {
   "cell_type": "code",
   "execution_count": null,
   "id": "a514e2ba-ec5a-4e18-bea8-92b1bb087736",
   "metadata": {},
   "outputs": [],
   "source": [
    "plt.plot(algo0.weights_all.T[430])"
   ]
  },
  {
   "cell_type": "code",
   "execution_count": null,
   "id": "fdd84ced-3afe-49b7-9e22-c46c6f1705ca",
   "metadata": {},
   "outputs": [],
   "source": [
    "# draw_weights(algo1, \"Динамика весов экспертов c ARIMA\")"
   ]
  },
  {
   "cell_type": "code",
   "execution_count": null,
   "id": "5c3d0a80-aa0b-4c0a-925c-011d60bbb6f3",
   "metadata": {},
   "outputs": [],
   "source": [
    "plt.plot(algo0.weights[:20])\n",
    "plt.plot(algo1.weights[:20])\n",
    "plt.xticks(np.arange(20))\n",
    "plt.show()"
   ]
  },
  {
   "cell_type": "code",
   "execution_count": null,
   "id": "ff641d72-c389-4f30-9406-6f7d3edeaaeb",
   "metadata": {},
   "outputs": [],
   "source": [
    "# draw_more(algo0, show=[\"master\"], show_experts=[], show_axes=[\"regret\"], height_ratios=[1], \n",
    "#                   suptitle=f\"Cumulative losses plot\", fig_size=(12, 8), ylims=(9.05e6,9.2e6))"
   ]
  },
  {
   "cell_type": "code",
   "execution_count": null,
   "id": "e6bbfbe0-cd96-4b8b-87bf-90bb76126865",
   "metadata": {},
   "outputs": [],
   "source": []
  },
  {
   "cell_type": "code",
   "execution_count": null,
   "id": "59da857a-ca4b-40cb-b562-d9d93dbcc381",
   "metadata": {},
   "outputs": [],
   "source": [
    "algos = [algo0_uni, algo0_dec, algo1, algo1_uni, algo1_dec]\n",
    "other = [algo.master_losses_all for algo in algos]\n",
    "labels = [\"Master default + uniform past\", \n",
    "         \"Master default + decaying past\",\n",
    "        \"Master simple_101 + start\",\n",
    "          \"Master simple_101 + uniform past\",\n",
    "          \"Master simple_101 + decaying past\"]\n",
    "colors = [None] * 5"
   ]
  },
  {
   "cell_type": "code",
   "execution_count": null,
   "id": "e583ab18-30d2-456e-b9c9-af002ff36280",
   "metadata": {},
   "outputs": [],
   "source": [
    "draw_more(algo0, show=[\"master\"], show_experts=[], show_axes=[\"regret\"], height_ratios=[1], \n",
    "                  suptitle=f\"Cumulative losses plot\", fig_size=(12, 8), \\\n",
    "                  other=other, labels=labels, colors=colors)"
   ]
  },
  {
   "cell_type": "code",
   "execution_count": null,
   "id": "d9938be9-ae57-4898-a530-967039515c5c",
   "metadata": {},
   "outputs": [],
   "source": [
    "def draw_more(logs, show=None, show_experts=None,\n",
    "             show_axes=None, height_ratios=None, suptitle=None, fig_size=(15, 10), ylims=None, other=None, labels=None, colors=None, loc='upper left'):\n",
    "\n",
    "    if show is None:\n",
    "        show = [\"master\"]\n",
    "    if show_experts is None:\n",
    "        show_experts = []\n",
    "    if show_axes is None:\n",
    "        show_axes = [\"regret\"]\n",
    "    if height_ratios is None:\n",
    "        height_ratios = [1 for _ in show_axes]\n",
    "    if suptitle is None:\n",
    "        suptitle = \"Algorithm\"\n",
    "    assert len(show_axes) == len(height_ratios), \"Wrong sizes\"\n",
    "    if other is None:\n",
    "        other = []\n",
    "        labels = []\n",
    "        colors=[]\n",
    "    \n",
    "\n",
    "    text_idx = 0\n",
    "\n",
    "    fig, axes = plt.subplots(len(show_axes), 1, figsize=fig_size, sharex=True, height_ratios=height_ratios)\n",
    "    ax = [axes] if len(show_axes) == 1 else axes\n",
    "    grid = np.arange(logs.total_time - logs.shift)\n",
    "\n",
    "    try:\n",
    "        idx = show_axes.index(\"loss\")\n",
    "        text_idx = idx\n",
    "\n",
    "        if \"ideal\" in show:\n",
    "            ax[idx].plot(grid, logs.ideal_losses[logs.shift:], label=\"Ideal expert losses\",\n",
    "                         color='green')\n",
    "        if \"zero\" in show:\n",
    "            ax[idx].plot(grid, logs.zero_losses[logs.shift:],\n",
    "                         label=\"Zero expert losses\",\n",
    "                         color='yellow')\n",
    "        for expert_num in show_experts:\n",
    "            ax[idx].plot(grid, logs.experts_losses_all.T[expert_num][logs.shift:],\n",
    "                         label=f\"Expert {expert_num} losses\")\n",
    "        if \"master\" in show:\n",
    "            ax[idx].plot(grid, logs.master_losses_all[logs.shift:], label=\"Master losses\",\n",
    "                         color='red')\n",
    "\n",
    "        ax[idx].set_ylabel(\"Loss\")\n",
    "        ax[idx].legend()\n",
    "\n",
    "    except ValueError:\n",
    "        pass\n",
    "\n",
    "    try:\n",
    "        idx = show_axes.index(\"regret\")\n",
    "        if ylims is not None:\n",
    "            ax[idx].set_ylim(ylims)\n",
    "\n",
    "        if \"ideal\" in show:\n",
    "            ax[idx].plot(grid, logs.ideal_losses[logs.shift:].cumsum(),\n",
    "                         label=\"Ideal expert cumulative losses\", color='green')\n",
    "        if \"zero\" in show:\n",
    "            ax[idx].plot(grid, logs.zero_losses[logs.shift:].cumsum(),\n",
    "                         label=\"Zero expert cumulative losses\", color='yellow')\n",
    "\n",
    "        for expert_num in show_experts:\n",
    "            ax[idx].plot(grid, logs.experts_losses_all.T[expert_num][logs.shift:].cumsum(),\n",
    "                         label=f\"Expert {expert_num} cumulative losses\")\n",
    "\n",
    "        if \"master\" in show:\n",
    "            ax[idx].plot(grid, logs.master_losses_all[logs.shift:].cumsum(),\n",
    "                         label=\"Default master cumulative losses\", color='red')\n",
    "\n",
    "        if \"theoretical\" in show:\n",
    "            ax[idx].plot(grid, logs.theoretical_upper[logs.shift:],\n",
    "                         label=\"Theoretical upper bound\", color='black')\n",
    "        for another, label, color in zip(other, labels, colors):\n",
    "            ax[idx].plot(grid, another[logs.shift:].cumsum(),\n",
    "                             label=label, color=color)\n",
    "        \n",
    "\n",
    "        ax[idx].set_xlabel(\"Time\")\n",
    "        ax[idx].set_ylabel(\"Cumulative loss\")\n",
    "        \n",
    "        ax[idx].legend(loc=loc)\n",
    "        \n",
    "\n",
    "    except ValueError:\n",
    "        pass\n",
    "\n",
    "    bottom, top = ax[text_idx].get_ybound()\n",
    "    left, right = ax[text_idx].get_xbound()\n",
    "    for gen_idx, gen_stamp in zip(np.r_[logs.indexes, -1], logs.stamps):\n",
    "        if gen_stamp < logs.shift:\n",
    "            continue\n",
    "        for i in range(len(show_axes)):\n",
    "            ax[i].axvline(gen_stamp - logs.shift, color='orange', linestyle=':')\n",
    "        if gen_idx != -1:\n",
    "            ax[text_idx].text(x=gen_stamp - logs.shift + 0.005 * (right - left), y=top - 0.12 * (top - bottom),\n",
    "                              s=f\"gen {gen_idx}\", color='orange', rotation=15)\n",
    "\n",
    "    fig.suptitle(suptitle, fontsize=15)\n",
    "    # plt.savefig('../results/impovement.png')\n",
    "    plt.savefig('../results/improvement3.eps', format='eps')\n",
    "    plt.show()\n",
    "   "
   ]
  },
  {
   "cell_type": "code",
   "execution_count": null,
   "id": "6e3dfe1b-23e9-4f1e-b10c-d22ff7fd1222",
   "metadata": {},
   "outputs": [],
   "source": []
  }
 ],
 "metadata": {
  "kernelspec": {
   "display_name": "Python 3 (ipykernel)",
   "language": "python",
   "name": "python3"
  },
  "language_info": {
   "codemirror_mode": {
    "name": "ipython",
    "version": 3
   },
   "file_extension": ".py",
   "mimetype": "text/x-python",
   "name": "python",
   "nbconvert_exporter": "python",
   "pygments_lexer": "ipython3",
   "version": "3.10.9"
  }
 },
 "nbformat": 4,
 "nbformat_minor": 5
}
