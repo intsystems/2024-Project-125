{
 "cells": [
  {
   "cell_type": "code",
   "execution_count": 1,
   "id": "977418ae-b492-4dae-8826-c8522f2652dc",
   "metadata": {},
   "outputs": [],
   "source": [
    "import numpy as np\n",
    "import pandas as pd\n",
    "import matplotlib.pyplot as plt\n",
    "import warnings\n",
    "\n",
    "# warnings.filterwarnings('ignore')\n",
    "plt.rcParams['figure.dpi'] = 80\n",
    "\n",
    "import sys\n",
    "sys.path.insert(0, '..')\n",
    "\n",
    "import os\n",
    "from pathlib import Path\n",
    "\n",
    "from hypers import weight_hypers\n",
    "from hypers import alpha_hypers \n",
    "\n",
    "from experiment import load_experiments\n",
    "\n",
    "from experiment import experiments_to_df\n",
    "\n",
    "from analysis import extract_needed"
   ]
  },
  {
   "cell_type": "code",
   "execution_count": 2,
   "id": "dc8b9cd3-10d2-4b50-991c-66e68cdb6217",
   "metadata": {},
   "outputs": [],
   "source": [
    "experiments_10, df_10 = load_experiments('../results/experim_10.json')\n",
    "experiments_11, df_11 = load_experiments('../results/experim_11.json')\n",
    "experiments_12, df_12 = load_experiments('../results/experim_12.json')\n",
    "experiments_13, df_13 = load_experiments('../results/experim_13.json')\n",
    "experiments_14, df_14 = load_experiments('../results/experim_14.json')\n",
    "experiments_15, df_15 = load_experiments('../results/experim_15.json')\n",
    "experiments_16, df_16 = load_experiments('../results/experim_16.json')\n",
    "experiments_17, df_17 = load_experiments('../results/experim_17.json')\n",
    "experiments_18, df_18 = load_experiments('../results/experim_18.json')\n",
    "experiments_19, df_19 = load_experiments('../results/experim_19.json')\n",
    "experiments_20, df_20 = load_experiments('../results/experim_20.json')\n",
    "experiments_21, df_21 = load_experiments('../results/experim_21.json')\n",
    "experiments_22, df_22 = load_experiments('../results/experim_22.json')\n",
    "experiments_23, df_23 = load_experiments('../results/experim_23.json')\n",
    "experiments_24, df_24 = load_experiments('../results/experim_24.json')\n",
    "experiments_25, df_25 = load_experiments('../results/experim_25.json')\n",
    "experiments_26, df_26 = load_experiments('../results/experim_26.json')\n",
    "experiments_27, df_27 = load_experiments('../results/experim_27.json')\n",
    "experiments_28, df_28 = load_experiments('../results/experim_28.json')\n",
    "experiments_29, df_29 = load_experiments('../results/experim_29.json')\n",
    "experiments_30, df_30 = load_experiments('../results/experim_30.json')\n",
    "experiments_31, df_31 = load_experiments('../results/experim_31.json')\n",
    "experiments_32, df_32 = load_experiments('../results/experim_32.json')\n",
    "experiments_33, df_33 = load_experiments('../results/experim_33.json')\n",
    "experiments_34, df_34 = load_experiments('../results/experim_34.json')\n",
    "experiments_35, df_35 = load_experiments('../results/experim_35.json')\n",
    "experiments_36, df_36 = load_experiments('../results/experim_36.json')\n",
    "experiments_37, df_37 = load_experiments('../results/experim_37.json')\n",
    "experiments_38, df_38 = load_experiments('../results/experim_38.json')\n",
    "experiments_39, df_39 = load_experiments('../results/experim_39.json')\n",
    "experiments_40, df_40 = load_experiments('../results/experim_40.json')\n",
    "experiments_41, df_41 = load_experiments('../results/experim_41.json')\n",
    "experiments_42, df_42 = load_experiments('../results/experim_42.json')\n",
    "experiments_43, df_43 = load_experiments('../results/experim_43.json')\n",
    "experiments_44, df_44 = load_experiments('../results/experim_44.json')\n",
    "experiments_45, df_45 = load_experiments('../results/experim_45.json')\n",
    "experiments_46, df_46 = load_experiments('../results/experim_46.json')\n",
    "experiments_47, df_47 = load_experiments('../results/experim_47.json')\n",
    "experiments_48, df_48 = load_experiments('../results/experim_48.json')\n",
    "experiments_49, df_49 = load_experiments('../results/experim_49.json')\n",
    "experiments_50, df_50 = load_experiments('../results/experim_50.json')\n",
    "experiments_51, df_51 = load_experiments('../results/experim_51.json')\n",
    "experiments_52, df_52 = load_experiments('../results/experim_52.json')"
   ]
  },
  {
   "cell_type": "code",
   "execution_count": null,
   "id": "e86f64ee-fc4a-4302-97b4-28eb5fadaea8",
   "metadata": {},
   "outputs": [],
   "source": [
    "all = []\n",
    "for i in range(10, 41):\n",
    "    all += load_experiments(f'../results/experim_{i}.json')[0]"
   ]
  },
  {
   "cell_type": "code",
   "execution_count": null,
   "id": "68125c1e-42e9-424c-bc19-1675ec4f9c7f",
   "metadata": {},
   "outputs": [],
   "source": [
    "df = experiments_to_df(all)"
   ]
  },
  {
   "cell_type": "code",
   "execution_count": null,
   "id": "9f1b0ba3-06d2-4cfa-87fe-454e82b4ce13",
   "metadata": {},
   "outputs": [],
   "source": [
    "pd.set_option('display.max_rows', None)\n",
    "df"
   ]
  },
  {
   "cell_type": "code",
   "execution_count": null,
   "id": "8bd77fff-6cfb-47b0-b045-6e77045b110a",
   "metadata": {},
   "outputs": [],
   "source": [
    "un = df[(df[\"noise_var\"] == 1) & (df[\"train_window\"] == 10)]"
   ]
  },
  {
   "cell_type": "code",
   "execution_count": null,
   "id": "eaba9b3d-15bb-4dbf-b066-b72a168cc40d",
   "metadata": {},
   "outputs": [],
   "source": [
    "un.sort_values(by=\"mean\")[[\"weight_function\",\"mixing_type\", \"alpha_function\", \"mean\"]]"
   ]
  },
  {
   "cell_type": "code",
   "execution_count": null,
   "id": "ef3c3163-41d2-4d86-bc3d-a3e0051e65b0",
   "metadata": {},
   "outputs": [],
   "source": [
    "un.sort_values(by=\"random_2\")[[\"weight_function\",\"mixing_type\", \"alpha_function\", \"random_2\"]]"
   ]
  },
  {
   "cell_type": "code",
   "execution_count": null,
   "id": "41131ecc-dd52-4153-a885-8314f67eeffc",
   "metadata": {},
   "outputs": [],
   "source": [
    "df.to_csv(\"results.csv\")"
   ]
  }
 ],
 "metadata": {
  "kernelspec": {
   "display_name": "Python 3 (ipykernel)",
   "language": "python",
   "name": "python3"
  },
  "language_info": {
   "codemirror_mode": {
    "name": "ipython",
    "version": 3
   },
   "file_extension": ".py",
   "mimetype": "text/x-python",
   "name": "python",
   "nbconvert_exporter": "python",
   "pygments_lexer": "ipython3",
   "version": "3.10.9"
  }
 },
 "nbformat": 4,
 "nbformat_minor": 5
}
